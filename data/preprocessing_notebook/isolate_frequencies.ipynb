{
 "cells": [
  {
   "cell_type": "markdown",
   "metadata": {},
   "source": [
    "# This is the notebook used to find the principal component data for each frequency. It is a modified version of [this notebook](https://github.com/leewujung/ooi-echo-matrix-decomposition/blob/master/notebooks/fig_si_pca.ipynb) by [Dr. Wu-Jung Lee](https://github.com/leewujung)"
   ]
  },
  {
   "cell_type": "markdown",
   "metadata": {},
   "source": [
    "Note, running this notebook will create data files in the data/preprocessing_notebook directory instead of the data directory."
   ]
  },
  {
   "cell_type": "markdown",
   "metadata": {},
   "source": [
    "# Plotting PCA results"
   ]
  },
  {
   "cell_type": "code",
   "execution_count": 5,
   "metadata": {},
   "outputs": [],
   "source": [
    "import os\n",
    "import numpy as np\n",
    "import pandas as pd\n",
    "import matplotlib.pyplot as plt\n",
    "import matplotlib.dates as mdates\n",
    "import datetime\n",
    "import xarray as xr\n",
    "from sklearn.decomposition import PCA"
   ]
  },
  {
   "cell_type": "markdown",
   "metadata": {},
   "source": [
    "## Load data"
   ]
  },
  {
   "cell_type": "code",
   "execution_count": 6,
   "metadata": {},
   "outputs": [],
   "source": [
    "MVBS_rpca_file = '20150817-20151017_MVBS_time_Sv_rangeBin5_all_corrected_rpca.nc'"
   ]
  },
  {
   "cell_type": "code",
   "execution_count": 7,
   "metadata": {},
   "outputs": [],
   "source": [
    "MVBS_rpca = xr.open_dataset(os.path.join(MVBS_rpca_file))\n",
    "low_rank = MVBS_rpca['low_rank']\n",
    "n_observations, n_frequencies, n_depth_levels, n_pings = low_rank.shape"
   ]
  },
  {
   "cell_type": "code",
   "execution_count": 8,
   "metadata": {},
   "outputs": [
    {
     "data": {
      "text/html": [
       "<div><svg style=\"position: absolute; width: 0; height: 0; overflow: hidden\">\n",
       "<defs>\n",
       "<symbol id=\"icon-database\" viewBox=\"0 0 32 32\">\n",
       "<path d=\"M16 0c-8.837 0-16 2.239-16 5v4c0 2.761 7.163 5 16 5s16-2.239 16-5v-4c0-2.761-7.163-5-16-5z\"></path>\n",
       "<path d=\"M16 17c-8.837 0-16-2.239-16-5v6c0 2.761 7.163 5 16 5s16-2.239 16-5v-6c0 2.761-7.163 5-16 5z\"></path>\n",
       "<path d=\"M16 26c-8.837 0-16-2.239-16-5v6c0 2.761 7.163 5 16 5s16-2.239 16-5v-6c0 2.761-7.163 5-16 5z\"></path>\n",
       "</symbol>\n",
       "<symbol id=\"icon-file-text2\" viewBox=\"0 0 32 32\">\n",
       "<path d=\"M28.681 7.159c-0.694-0.947-1.662-2.053-2.724-3.116s-2.169-2.030-3.116-2.724c-1.612-1.182-2.393-1.319-2.841-1.319h-15.5c-1.378 0-2.5 1.121-2.5 2.5v27c0 1.378 1.122 2.5 2.5 2.5h23c1.378 0 2.5-1.122 2.5-2.5v-19.5c0-0.448-0.137-1.23-1.319-2.841zM24.543 5.457c0.959 0.959 1.712 1.825 2.268 2.543h-4.811v-4.811c0.718 0.556 1.584 1.309 2.543 2.268zM28 29.5c0 0.271-0.229 0.5-0.5 0.5h-23c-0.271 0-0.5-0.229-0.5-0.5v-27c0-0.271 0.229-0.5 0.5-0.5 0 0 15.499-0 15.5 0v7c0 0.552 0.448 1 1 1h7v19.5z\"></path>\n",
       "<path d=\"M23 26h-14c-0.552 0-1-0.448-1-1s0.448-1 1-1h14c0.552 0 1 0.448 1 1s-0.448 1-1 1z\"></path>\n",
       "<path d=\"M23 22h-14c-0.552 0-1-0.448-1-1s0.448-1 1-1h14c0.552 0 1 0.448 1 1s-0.448 1-1 1z\"></path>\n",
       "<path d=\"M23 18h-14c-0.552 0-1-0.448-1-1s0.448-1 1-1h14c0.552 0 1 0.448 1 1s-0.448 1-1 1z\"></path>\n",
       "</symbol>\n",
       "</defs>\n",
       "</svg>\n",
       "<style>/* CSS stylesheet for displaying xarray objects in jupyterlab.\n",
       " *\n",
       " */\n",
       "\n",
       ":root {\n",
       "  --xr-font-color0: var(--jp-content-font-color0, rgba(0, 0, 0, 1));\n",
       "  --xr-font-color2: var(--jp-content-font-color2, rgba(0, 0, 0, 0.54));\n",
       "  --xr-font-color3: var(--jp-content-font-color3, rgba(0, 0, 0, 0.38));\n",
       "  --xr-border-color: var(--jp-border-color2, #e0e0e0);\n",
       "  --xr-disabled-color: var(--jp-layout-color3, #bdbdbd);\n",
       "  --xr-background-color: var(--jp-layout-color0, white);\n",
       "  --xr-background-color-row-even: var(--jp-layout-color1, white);\n",
       "  --xr-background-color-row-odd: var(--jp-layout-color2, #eeeeee);\n",
       "}\n",
       "\n",
       "html[theme=dark],\n",
       "body.vscode-dark {\n",
       "  --xr-font-color0: rgba(255, 255, 255, 1);\n",
       "  --xr-font-color2: rgba(255, 255, 255, 0.54);\n",
       "  --xr-font-color3: rgba(255, 255, 255, 0.38);\n",
       "  --xr-border-color: #1F1F1F;\n",
       "  --xr-disabled-color: #515151;\n",
       "  --xr-background-color: #111111;\n",
       "  --xr-background-color-row-even: #111111;\n",
       "  --xr-background-color-row-odd: #313131;\n",
       "}\n",
       "\n",
       ".xr-wrap {\n",
       "  display: block !important;\n",
       "  min-width: 300px;\n",
       "  max-width: 700px;\n",
       "}\n",
       "\n",
       ".xr-text-repr-fallback {\n",
       "  /* fallback to plain text repr when CSS is not injected (untrusted notebook) */\n",
       "  display: none;\n",
       "}\n",
       "\n",
       ".xr-header {\n",
       "  padding-top: 6px;\n",
       "  padding-bottom: 6px;\n",
       "  margin-bottom: 4px;\n",
       "  border-bottom: solid 1px var(--xr-border-color);\n",
       "}\n",
       "\n",
       ".xr-header > div,\n",
       ".xr-header > ul {\n",
       "  display: inline;\n",
       "  margin-top: 0;\n",
       "  margin-bottom: 0;\n",
       "}\n",
       "\n",
       ".xr-obj-type,\n",
       ".xr-array-name {\n",
       "  margin-left: 2px;\n",
       "  margin-right: 10px;\n",
       "}\n",
       "\n",
       ".xr-obj-type {\n",
       "  color: var(--xr-font-color2);\n",
       "}\n",
       "\n",
       ".xr-sections {\n",
       "  padding-left: 0 !important;\n",
       "  display: grid;\n",
       "  grid-template-columns: 150px auto auto 1fr 20px 20px;\n",
       "}\n",
       "\n",
       ".xr-section-item {\n",
       "  display: contents;\n",
       "}\n",
       "\n",
       ".xr-section-item input {\n",
       "  display: none;\n",
       "}\n",
       "\n",
       ".xr-section-item input + label {\n",
       "  color: var(--xr-disabled-color);\n",
       "}\n",
       "\n",
       ".xr-section-item input:enabled + label {\n",
       "  cursor: pointer;\n",
       "  color: var(--xr-font-color2);\n",
       "}\n",
       "\n",
       ".xr-section-item input:enabled + label:hover {\n",
       "  color: var(--xr-font-color0);\n",
       "}\n",
       "\n",
       ".xr-section-summary {\n",
       "  grid-column: 1;\n",
       "  color: var(--xr-font-color2);\n",
       "  font-weight: 500;\n",
       "}\n",
       "\n",
       ".xr-section-summary > span {\n",
       "  display: inline-block;\n",
       "  padding-left: 0.5em;\n",
       "}\n",
       "\n",
       ".xr-section-summary-in:disabled + label {\n",
       "  color: var(--xr-font-color2);\n",
       "}\n",
       "\n",
       ".xr-section-summary-in + label:before {\n",
       "  display: inline-block;\n",
       "  content: '►';\n",
       "  font-size: 11px;\n",
       "  width: 15px;\n",
       "  text-align: center;\n",
       "}\n",
       "\n",
       ".xr-section-summary-in:disabled + label:before {\n",
       "  color: var(--xr-disabled-color);\n",
       "}\n",
       "\n",
       ".xr-section-summary-in:checked + label:before {\n",
       "  content: '▼';\n",
       "}\n",
       "\n",
       ".xr-section-summary-in:checked + label > span {\n",
       "  display: none;\n",
       "}\n",
       "\n",
       ".xr-section-summary,\n",
       ".xr-section-inline-details {\n",
       "  padding-top: 4px;\n",
       "  padding-bottom: 4px;\n",
       "}\n",
       "\n",
       ".xr-section-inline-details {\n",
       "  grid-column: 2 / -1;\n",
       "}\n",
       "\n",
       ".xr-section-details {\n",
       "  display: none;\n",
       "  grid-column: 1 / -1;\n",
       "  margin-bottom: 5px;\n",
       "}\n",
       "\n",
       ".xr-section-summary-in:checked ~ .xr-section-details {\n",
       "  display: contents;\n",
       "}\n",
       "\n",
       ".xr-array-wrap {\n",
       "  grid-column: 1 / -1;\n",
       "  display: grid;\n",
       "  grid-template-columns: 20px auto;\n",
       "}\n",
       "\n",
       ".xr-array-wrap > label {\n",
       "  grid-column: 1;\n",
       "  vertical-align: top;\n",
       "}\n",
       "\n",
       ".xr-preview {\n",
       "  color: var(--xr-font-color3);\n",
       "}\n",
       "\n",
       ".xr-array-preview,\n",
       ".xr-array-data {\n",
       "  padding: 0 5px !important;\n",
       "  grid-column: 2;\n",
       "}\n",
       "\n",
       ".xr-array-data,\n",
       ".xr-array-in:checked ~ .xr-array-preview {\n",
       "  display: none;\n",
       "}\n",
       "\n",
       ".xr-array-in:checked ~ .xr-array-data,\n",
       ".xr-array-preview {\n",
       "  display: inline-block;\n",
       "}\n",
       "\n",
       ".xr-dim-list {\n",
       "  display: inline-block !important;\n",
       "  list-style: none;\n",
       "  padding: 0 !important;\n",
       "  margin: 0;\n",
       "}\n",
       "\n",
       ".xr-dim-list li {\n",
       "  display: inline-block;\n",
       "  padding: 0;\n",
       "  margin: 0;\n",
       "}\n",
       "\n",
       ".xr-dim-list:before {\n",
       "  content: '(';\n",
       "}\n",
       "\n",
       ".xr-dim-list:after {\n",
       "  content: ')';\n",
       "}\n",
       "\n",
       ".xr-dim-list li:not(:last-child):after {\n",
       "  content: ',';\n",
       "  padding-right: 5px;\n",
       "}\n",
       "\n",
       ".xr-has-index {\n",
       "  font-weight: bold;\n",
       "}\n",
       "\n",
       ".xr-var-list,\n",
       ".xr-var-item {\n",
       "  display: contents;\n",
       "}\n",
       "\n",
       ".xr-var-item > div,\n",
       ".xr-var-item label,\n",
       ".xr-var-item > .xr-var-name span {\n",
       "  background-color: var(--xr-background-color-row-even);\n",
       "  margin-bottom: 0;\n",
       "}\n",
       "\n",
       ".xr-var-item > .xr-var-name:hover span {\n",
       "  padding-right: 5px;\n",
       "}\n",
       "\n",
       ".xr-var-list > li:nth-child(odd) > div,\n",
       ".xr-var-list > li:nth-child(odd) > label,\n",
       ".xr-var-list > li:nth-child(odd) > .xr-var-name span {\n",
       "  background-color: var(--xr-background-color-row-odd);\n",
       "}\n",
       "\n",
       ".xr-var-name {\n",
       "  grid-column: 1;\n",
       "}\n",
       "\n",
       ".xr-var-dims {\n",
       "  grid-column: 2;\n",
       "}\n",
       "\n",
       ".xr-var-dtype {\n",
       "  grid-column: 3;\n",
       "  text-align: right;\n",
       "  color: var(--xr-font-color2);\n",
       "}\n",
       "\n",
       ".xr-var-preview {\n",
       "  grid-column: 4;\n",
       "}\n",
       "\n",
       ".xr-var-name,\n",
       ".xr-var-dims,\n",
       ".xr-var-dtype,\n",
       ".xr-preview,\n",
       ".xr-attrs dt {\n",
       "  white-space: nowrap;\n",
       "  overflow: hidden;\n",
       "  text-overflow: ellipsis;\n",
       "  padding-right: 10px;\n",
       "}\n",
       "\n",
       ".xr-var-name:hover,\n",
       ".xr-var-dims:hover,\n",
       ".xr-var-dtype:hover,\n",
       ".xr-attrs dt:hover {\n",
       "  overflow: visible;\n",
       "  width: auto;\n",
       "  z-index: 1;\n",
       "}\n",
       "\n",
       ".xr-var-attrs,\n",
       ".xr-var-data {\n",
       "  display: none;\n",
       "  background-color: var(--xr-background-color) !important;\n",
       "  padding-bottom: 5px !important;\n",
       "}\n",
       "\n",
       ".xr-var-attrs-in:checked ~ .xr-var-attrs,\n",
       ".xr-var-data-in:checked ~ .xr-var-data {\n",
       "  display: block;\n",
       "}\n",
       "\n",
       ".xr-var-data > table {\n",
       "  float: right;\n",
       "}\n",
       "\n",
       ".xr-var-name span,\n",
       ".xr-var-data,\n",
       ".xr-attrs {\n",
       "  padding-left: 25px !important;\n",
       "}\n",
       "\n",
       ".xr-attrs,\n",
       ".xr-var-attrs,\n",
       ".xr-var-data {\n",
       "  grid-column: 1 / -1;\n",
       "}\n",
       "\n",
       "dl.xr-attrs {\n",
       "  padding: 0;\n",
       "  margin: 0;\n",
       "  display: grid;\n",
       "  grid-template-columns: 125px auto;\n",
       "}\n",
       "\n",
       ".xr-attrs dt,\n",
       ".xr-attrs dd {\n",
       "  padding: 0;\n",
       "  margin: 0;\n",
       "  float: left;\n",
       "  padding-right: 10px;\n",
       "  width: auto;\n",
       "}\n",
       "\n",
       ".xr-attrs dt {\n",
       "  font-weight: normal;\n",
       "  grid-column: 1;\n",
       "}\n",
       "\n",
       ".xr-attrs dt:hover span {\n",
       "  display: inline-block;\n",
       "  background: var(--xr-background-color);\n",
       "  padding-right: 10px;\n",
       "}\n",
       "\n",
       ".xr-attrs dd {\n",
       "  grid-column: 2;\n",
       "  white-space: pre-wrap;\n",
       "  word-break: break-all;\n",
       "}\n",
       "\n",
       ".xr-icon-database,\n",
       ".xr-icon-file-text2 {\n",
       "  display: inline-block;\n",
       "  vertical-align: middle;\n",
       "  width: 1em;\n",
       "  height: 1.5em !important;\n",
       "  stroke-width: 0;\n",
       "  stroke: currentColor;\n",
       "  fill: currentColor;\n",
       "}\n",
       "</style><pre class='xr-text-repr-fallback'>&lt;xarray.DataArray &#x27;low_rank&#x27; (date: 62, frequency: 3, depth: 37, hour: 144)&gt;\n",
       "[991008 values with dtype=float64]\n",
       "Coordinates:\n",
       "  * date       (date) datetime64[ns] 2015-08-17 2015-08-18 ... 2015-10-17\n",
       "  * frequency  (frequency) int64 38000 120000 200000\n",
       "  * depth      (depth) float64 184.0 179.0 174.0 169.0 ... 14.91 9.943 4.972\n",
       "  * hour       (hour) float64 0.0 0.1667 0.3333 0.5 ... 23.33 23.5 23.67 23.83</pre><div class='xr-wrap' style='display:none'><div class='xr-header'><div class='xr-obj-type'>xarray.DataArray</div><div class='xr-array-name'>'low_rank'</div><ul class='xr-dim-list'><li><span class='xr-has-index'>date</span>: 62</li><li><span class='xr-has-index'>frequency</span>: 3</li><li><span class='xr-has-index'>depth</span>: 37</li><li><span class='xr-has-index'>hour</span>: 144</li></ul></div><ul class='xr-sections'><li class='xr-section-item'><div class='xr-array-wrap'><input id='section-09c1bd5d-4f0f-41ef-987e-f8b198e0cbf2' class='xr-array-in' type='checkbox' checked><label for='section-09c1bd5d-4f0f-41ef-987e-f8b198e0cbf2' title='Show/hide data repr'><svg class='icon xr-icon-database'><use xlink:href='#icon-database'></use></svg></label><div class='xr-array-preview xr-preview'><span>...</span></div><div class='xr-array-data'><pre>[991008 values with dtype=float64]</pre></div></div></li><li class='xr-section-item'><input id='section-0700ca75-ddc7-4f7b-a779-ea0fef17eb26' class='xr-section-summary-in' type='checkbox'  checked><label for='section-0700ca75-ddc7-4f7b-a779-ea0fef17eb26' class='xr-section-summary' >Coordinates: <span>(4)</span></label><div class='xr-section-inline-details'></div><div class='xr-section-details'><ul class='xr-var-list'><li class='xr-var-item'><div class='xr-var-name'><span class='xr-has-index'>date</span></div><div class='xr-var-dims'>(date)</div><div class='xr-var-dtype'>datetime64[ns]</div><div class='xr-var-preview xr-preview'>2015-08-17 ... 2015-10-17</div><input id='attrs-9455600f-9d4f-419e-b647-762441814e6f' class='xr-var-attrs-in' type='checkbox' disabled><label for='attrs-9455600f-9d4f-419e-b647-762441814e6f' title='Show/Hide attributes'><svg class='icon xr-icon-file-text2'><use xlink:href='#icon-file-text2'></use></svg></label><input id='data-4ba73d7c-091e-4de1-b2f4-aeefe9eea4b5' class='xr-var-data-in' type='checkbox'><label for='data-4ba73d7c-091e-4de1-b2f4-aeefe9eea4b5' title='Show/Hide data repr'><svg class='icon xr-icon-database'><use xlink:href='#icon-database'></use></svg></label><div class='xr-var-attrs'><dl class='xr-attrs'></dl></div><div class='xr-var-data'><pre>array([&#x27;2015-08-17T00:00:00.000000000&#x27;, &#x27;2015-08-18T00:00:00.000000000&#x27;,\n",
       "       &#x27;2015-08-19T00:00:00.000000000&#x27;, &#x27;2015-08-20T00:00:00.000000000&#x27;,\n",
       "       &#x27;2015-08-21T00:00:00.000000000&#x27;, &#x27;2015-08-22T00:00:00.000000000&#x27;,\n",
       "       &#x27;2015-08-23T00:00:00.000000000&#x27;, &#x27;2015-08-24T00:00:00.000000000&#x27;,\n",
       "       &#x27;2015-08-25T00:00:00.000000000&#x27;, &#x27;2015-08-26T00:00:00.000000000&#x27;,\n",
       "       &#x27;2015-08-27T00:00:00.000000000&#x27;, &#x27;2015-08-28T00:00:00.000000000&#x27;,\n",
       "       &#x27;2015-08-29T00:00:00.000000000&#x27;, &#x27;2015-08-30T00:00:00.000000000&#x27;,\n",
       "       &#x27;2015-08-31T00:00:00.000000000&#x27;, &#x27;2015-09-01T00:00:00.000000000&#x27;,\n",
       "       &#x27;2015-09-02T00:00:00.000000000&#x27;, &#x27;2015-09-03T00:00:00.000000000&#x27;,\n",
       "       &#x27;2015-09-04T00:00:00.000000000&#x27;, &#x27;2015-09-05T00:00:00.000000000&#x27;,\n",
       "       &#x27;2015-09-06T00:00:00.000000000&#x27;, &#x27;2015-09-07T00:00:00.000000000&#x27;,\n",
       "       &#x27;2015-09-08T00:00:00.000000000&#x27;, &#x27;2015-09-09T00:00:00.000000000&#x27;,\n",
       "       &#x27;2015-09-10T00:00:00.000000000&#x27;, &#x27;2015-09-11T00:00:00.000000000&#x27;,\n",
       "       &#x27;2015-09-12T00:00:00.000000000&#x27;, &#x27;2015-09-13T00:00:00.000000000&#x27;,\n",
       "       &#x27;2015-09-14T00:00:00.000000000&#x27;, &#x27;2015-09-15T00:00:00.000000000&#x27;,\n",
       "       &#x27;2015-09-16T00:00:00.000000000&#x27;, &#x27;2015-09-17T00:00:00.000000000&#x27;,\n",
       "       &#x27;2015-09-18T00:00:00.000000000&#x27;, &#x27;2015-09-19T00:00:00.000000000&#x27;,\n",
       "       &#x27;2015-09-20T00:00:00.000000000&#x27;, &#x27;2015-09-21T00:00:00.000000000&#x27;,\n",
       "       &#x27;2015-09-22T00:00:00.000000000&#x27;, &#x27;2015-09-23T00:00:00.000000000&#x27;,\n",
       "       &#x27;2015-09-24T00:00:00.000000000&#x27;, &#x27;2015-09-25T00:00:00.000000000&#x27;,\n",
       "       &#x27;2015-09-26T00:00:00.000000000&#x27;, &#x27;2015-09-27T00:00:00.000000000&#x27;,\n",
       "       &#x27;2015-09-28T00:00:00.000000000&#x27;, &#x27;2015-09-29T00:00:00.000000000&#x27;,\n",
       "       &#x27;2015-09-30T00:00:00.000000000&#x27;, &#x27;2015-10-01T00:00:00.000000000&#x27;,\n",
       "       &#x27;2015-10-02T00:00:00.000000000&#x27;, &#x27;2015-10-03T00:00:00.000000000&#x27;,\n",
       "       &#x27;2015-10-04T00:00:00.000000000&#x27;, &#x27;2015-10-05T00:00:00.000000000&#x27;,\n",
       "       &#x27;2015-10-06T00:00:00.000000000&#x27;, &#x27;2015-10-07T00:00:00.000000000&#x27;,\n",
       "       &#x27;2015-10-08T00:00:00.000000000&#x27;, &#x27;2015-10-09T00:00:00.000000000&#x27;,\n",
       "       &#x27;2015-10-10T00:00:00.000000000&#x27;, &#x27;2015-10-11T00:00:00.000000000&#x27;,\n",
       "       &#x27;2015-10-12T00:00:00.000000000&#x27;, &#x27;2015-10-13T00:00:00.000000000&#x27;,\n",
       "       &#x27;2015-10-14T00:00:00.000000000&#x27;, &#x27;2015-10-15T00:00:00.000000000&#x27;,\n",
       "       &#x27;2015-10-16T00:00:00.000000000&#x27;, &#x27;2015-10-17T00:00:00.000000000&#x27;],\n",
       "      dtype=&#x27;datetime64[ns]&#x27;)</pre></div></li><li class='xr-var-item'><div class='xr-var-name'><span class='xr-has-index'>frequency</span></div><div class='xr-var-dims'>(frequency)</div><div class='xr-var-dtype'>int64</div><div class='xr-var-preview xr-preview'>38000 120000 200000</div><input id='attrs-865a0393-e0a1-4b79-a7a4-7281f73a3cd9' class='xr-var-attrs-in' type='checkbox' disabled><label for='attrs-865a0393-e0a1-4b79-a7a4-7281f73a3cd9' title='Show/Hide attributes'><svg class='icon xr-icon-file-text2'><use xlink:href='#icon-file-text2'></use></svg></label><input id='data-61db8b8e-064b-4713-bb99-6d372561694e' class='xr-var-data-in' type='checkbox'><label for='data-61db8b8e-064b-4713-bb99-6d372561694e' title='Show/Hide data repr'><svg class='icon xr-icon-database'><use xlink:href='#icon-database'></use></svg></label><div class='xr-var-attrs'><dl class='xr-attrs'></dl></div><div class='xr-var-data'><pre>array([ 38000, 120000, 200000])</pre></div></li><li class='xr-var-item'><div class='xr-var-name'><span class='xr-has-index'>depth</span></div><div class='xr-var-dims'>(depth)</div><div class='xr-var-dtype'>float64</div><div class='xr-var-preview xr-preview'>184.0 179.0 174.0 ... 9.943 4.972</div><input id='attrs-57a9d9b6-79f6-4edd-8aac-a16e1252b8c8' class='xr-var-attrs-in' type='checkbox' disabled><label for='attrs-57a9d9b6-79f6-4edd-8aac-a16e1252b8c8' title='Show/Hide attributes'><svg class='icon xr-icon-file-text2'><use xlink:href='#icon-file-text2'></use></svg></label><input id='data-0ea63fff-09e0-42a6-8451-292b93f482c1' class='xr-var-data-in' type='checkbox'><label for='data-0ea63fff-09e0-42a6-8451-292b93f482c1' title='Show/Hide data repr'><svg class='icon xr-icon-database'><use xlink:href='#icon-database'></use></svg></label><div class='xr-var-attrs'><dl class='xr-attrs'></dl></div><div class='xr-var-data'><pre>array([183.951496, 178.979834, 174.008172, 169.03651 , 164.064847, 159.093185,\n",
       "       154.121523, 149.149861, 144.178199, 139.206537, 134.234875, 129.263213,\n",
       "       124.291551, 119.319889, 114.348227, 109.376565, 104.404903,  99.433241,\n",
       "        94.461579,  89.489917,  84.518255,  79.546593,  74.574931,  69.603269,\n",
       "        64.631607,  59.659945,  54.688282,  49.71662 ,  44.744958,  39.773296,\n",
       "        34.801634,  29.829972,  24.85831 ,  19.886648,  14.914986,   9.943324,\n",
       "         4.971662])</pre></div></li><li class='xr-var-item'><div class='xr-var-name'><span class='xr-has-index'>hour</span></div><div class='xr-var-dims'>(hour)</div><div class='xr-var-dtype'>float64</div><div class='xr-var-preview xr-preview'>0.0 0.1667 0.3333 ... 23.67 23.83</div><input id='attrs-e9e556d3-3324-439c-b8f5-def91adfb8ac' class='xr-var-attrs-in' type='checkbox' disabled><label for='attrs-e9e556d3-3324-439c-b8f5-def91adfb8ac' title='Show/Hide attributes'><svg class='icon xr-icon-file-text2'><use xlink:href='#icon-file-text2'></use></svg></label><input id='data-5dbdcbb1-3f40-4cf5-8cf5-592771fad281' class='xr-var-data-in' type='checkbox'><label for='data-5dbdcbb1-3f40-4cf5-8cf5-592771fad281' title='Show/Hide data repr'><svg class='icon xr-icon-database'><use xlink:href='#icon-database'></use></svg></label><div class='xr-var-attrs'><dl class='xr-attrs'></dl></div><div class='xr-var-data'><pre>array([ 0.      ,  0.166667,  0.333333,  0.5     ,  0.666667,  0.833333,\n",
       "        1.      ,  1.166667,  1.333333,  1.5     ,  1.666667,  1.833333,\n",
       "        2.      ,  2.166667,  2.333333,  2.5     ,  2.666667,  2.833333,\n",
       "        3.      ,  3.166667,  3.333333,  3.5     ,  3.666667,  3.833333,\n",
       "        4.      ,  4.166667,  4.333333,  4.5     ,  4.666667,  4.833333,\n",
       "        5.      ,  5.166667,  5.333333,  5.5     ,  5.666667,  5.833333,\n",
       "        6.      ,  6.166667,  6.333333,  6.5     ,  6.666667,  6.833333,\n",
       "        7.      ,  7.166667,  7.333333,  7.5     ,  7.666667,  7.833333,\n",
       "        8.      ,  8.166667,  8.333333,  8.5     ,  8.666667,  8.833333,\n",
       "        9.      ,  9.166667,  9.333333,  9.5     ,  9.666667,  9.833333,\n",
       "       10.      , 10.166667, 10.333333, 10.5     , 10.666667, 10.833333,\n",
       "       11.      , 11.166667, 11.333333, 11.5     , 11.666667, 11.833333,\n",
       "       12.      , 12.166667, 12.333333, 12.5     , 12.666667, 12.833333,\n",
       "       13.      , 13.166667, 13.333333, 13.5     , 13.666667, 13.833333,\n",
       "       14.      , 14.166667, 14.333333, 14.5     , 14.666667, 14.833333,\n",
       "       15.      , 15.166667, 15.333333, 15.5     , 15.666667, 15.833333,\n",
       "       16.      , 16.166667, 16.333333, 16.5     , 16.666667, 16.833333,\n",
       "       17.      , 17.166667, 17.333333, 17.5     , 17.666667, 17.833333,\n",
       "       18.      , 18.166667, 18.333333, 18.5     , 18.666667, 18.833333,\n",
       "       19.      , 19.166667, 19.333333, 19.5     , 19.666667, 19.833333,\n",
       "       20.      , 20.166667, 20.333333, 20.5     , 20.666667, 20.833333,\n",
       "       21.      , 21.166667, 21.333333, 21.5     , 21.666667, 21.833333,\n",
       "       22.      , 22.166667, 22.333333, 22.5     , 22.666667, 22.833333,\n",
       "       23.      , 23.166667, 23.333333, 23.5     , 23.666667, 23.833333])</pre></div></li></ul></div></li><li class='xr-section-item'><input id='section-081cc5ff-b474-4d00-848a-dd398611b76b' class='xr-section-summary-in' type='checkbox' disabled ><label for='section-081cc5ff-b474-4d00-848a-dd398611b76b' class='xr-section-summary'  title='Expand/collapse section'>Attributes: <span>(0)</span></label><div class='xr-section-inline-details'></div><div class='xr-section-details'><dl class='xr-attrs'></dl></div></li></ul></div></div>"
      ],
      "text/plain": [
       "<xarray.DataArray 'low_rank' (date: 62, frequency: 3, depth: 37, hour: 144)>\n",
       "[991008 values with dtype=float64]\n",
       "Coordinates:\n",
       "  * date       (date) datetime64[ns] 2015-08-17 2015-08-18 ... 2015-10-17\n",
       "  * frequency  (frequency) int64 38000 120000 200000\n",
       "  * depth      (depth) float64 184.0 179.0 174.0 169.0 ... 14.91 9.943 4.972\n",
       "  * hour       (hour) float64 0.0 0.1667 0.3333 0.5 ... 23.33 23.5 23.67 23.83"
      ]
     },
     "execution_count": 8,
     "metadata": {},
     "output_type": "execute_result"
    }
   ],
   "source": [
    "low_rank"
   ]
  },
  {
   "cell_type": "code",
   "execution_count": 9,
   "metadata": {},
   "outputs": [
    {
     "data": {
      "text/plain": [
       "array([[[[-62.81310474, -63.01236654, -63.05589541, ..., -60.20053489,\n",
       "          -60.85029555, -60.67552525],\n",
       "         [-60.59615528, -59.8954308 , -59.98109702, ..., -60.75862038,\n",
       "          -60.73362924, -61.06034663],\n",
       "         [-60.6282189 , -60.0276286 , -60.33801631, ..., -62.04640026,\n",
       "          -62.30417687, -62.29324264],\n",
       "         ...,\n",
       "         [-72.15688845, -72.57027451, -70.80983184, ..., -73.24534938,\n",
       "          -73.19069293, -72.59626884],\n",
       "         [-72.03361952, -71.65862923, -72.53667739, ..., -73.80558327,\n",
       "          -72.37376025, -72.95707146],\n",
       "         [-71.80376454, -71.79081764, -70.92733798, ..., -71.53393311,\n",
       "          -71.70401566, -72.04937798]],\n",
       "\n",
       "        [[-49.59153314, -50.34532584, -50.99018432, ..., -48.13677227,\n",
       "          -48.85443454, -49.20581839],\n",
       "         [-50.45368749, -49.18998703, -49.22589645, ..., -50.46700185,\n",
       "          -50.73494191, -50.63673728],\n",
       "         [-50.13091292, -50.09173639, -50.18732504, ..., -51.81813372,\n",
       "          -52.73629631, -52.98239519],\n",
       "         ...,\n",
       "         [-69.72757802, -68.55490561, -68.16979434, ..., -68.94547629,\n",
       "          -68.29629539, -69.66338709],\n",
       "         [-67.79843721, -68.70435453, -69.27235183, ..., -69.44549995,\n",
       "          -70.65300145, -70.13220746],\n",
       "         [-66.72198132, -68.06507166, -67.00254508, ..., -68.24848284,\n",
       "          -68.0933232 , -69.31958272]],\n",
       "\n",
       "        [[-50.5747242 , -50.93656189, -50.94358394, ..., -48.42211644,\n",
       "          -49.29120398, -48.75806355],\n",
       "         [-50.29039426, -49.03666546, -49.4039079 , ..., -50.87510987,\n",
       "          -51.29286545, -50.84056233],\n",
       "         [-50.41953987, -50.72750871, -50.74361931, ..., -52.64860015,\n",
       "          -52.99873601, -53.1923798 ],\n",
       "         ...,\n",
       "         [-72.18495709, -71.17300623, -70.74227787, ..., -70.6716323 ,\n",
       "          -70.75997352, -72.10761838],\n",
       "         [-71.03188173, -71.52117964, -71.59991681, ..., -72.02470963,\n",
       "          -72.47004713, -72.5987395 ],\n",
       "         [-68.34113313, -69.69218692, -68.23347527, ..., -70.06419334,\n",
       "          -69.39507193, -70.9770038 ]]],\n",
       "\n",
       "\n",
       "       [[[-60.28124467, -59.97304927, -60.54459011, ..., -60.5424379 ,\n",
       "          -60.28910956, -59.81816242],\n",
       "         [-59.60039104, -59.39992863, -59.08081802, ..., -59.84822229,\n",
       "          -59.01988844, -60.16481944],\n",
       "         [-60.35626487, -60.00281956, -60.06917257, ..., -60.89222183,\n",
       "          -60.53567083, -60.84007406],\n",
       "         ...,\n",
       "         [-75.47317933, -75.48691046, -74.37104025, ..., -77.92445564,\n",
       "          -78.26257481, -77.01111347],\n",
       "         [-74.21643828, -74.6940271 , -74.68610812, ..., -77.79874568,\n",
       "          -77.12454417, -77.07492334],\n",
       "         [-73.72507534, -73.9635451 , -73.03776688, ..., -75.55345346,\n",
       "          -75.40983218, -75.30746739]],\n",
       "\n",
       "        [[-46.02239454, -47.27488904, -47.37132492, ..., -47.4039523 ,\n",
       "          -47.6036685 , -47.23756001],\n",
       "         [-48.24966796, -47.34137951, -46.95313042, ..., -48.54709408,\n",
       "          -48.80349698, -49.3179379 ],\n",
       "         [-49.11225906, -48.24479954, -48.88877621, ..., -51.07155876,\n",
       "          -51.15165741, -51.13244409],\n",
       "         ...,\n",
       "         [-73.26436713, -70.59504024, -70.94302849, ..., -73.56572775,\n",
       "          -73.33138414, -72.880224  ],\n",
       "         [-69.61960597, -71.79966645, -72.41632577, ..., -73.30166824,\n",
       "          -74.43928755, -74.84894265],\n",
       "         [-69.43886843, -70.27578133, -69.89212357, ..., -72.97714774,\n",
       "          -72.52341951, -74.0080599 ]],\n",
       "\n",
       "        [[-47.84264435, -47.95735233, -47.83312665, ..., -48.27315859,\n",
       "          -48.62305861, -48.16861299],\n",
       "         [-48.44712113, -47.63252722, -47.17377698, ..., -49.05204763,\n",
       "          -49.32652188, -49.85093891],\n",
       "         [-49.03837353, -49.00269896, -48.39610835, ..., -51.6554942 ,\n",
       "          -51.70877341, -51.87408479],\n",
       "         ...,\n",
       "         [-74.69720712, -73.28087143, -73.20845816, ..., -75.02037922,\n",
       "          -75.38455874, -74.67562223],\n",
       "         [-73.46425781, -74.51582436, -74.21532685, ..., -75.65498504,\n",
       "          -76.1846589 , -76.75187178],\n",
       "         [-71.37934127, -72.3944963 , -70.99868966, ..., -74.27393497,\n",
       "          -72.10879468, -74.52044422]]],\n",
       "\n",
       "\n",
       "       [[[-62.69603995, -62.301521  , -62.32402436, ..., -63.21428271,\n",
       "          -62.76265092, -62.75289874],\n",
       "         [-61.77900987, -61.06169998, -60.52279511, ..., -62.29287995,\n",
       "          -61.61876645, -62.64566751],\n",
       "         [-63.43831757, -63.32495941, -62.81760389, ..., -64.25970561,\n",
       "          -63.98150653, -65.23844872],\n",
       "         ...,\n",
       "         [-78.19266594, -78.37259973, -77.21218735, ..., -79.66591799,\n",
       "          -80.51838565, -78.86286855],\n",
       "         [-77.45606401, -77.39236856, -77.30768986, ..., -79.93597299,\n",
       "          -79.58708227, -79.74578398],\n",
       "         [-78.00024156, -79.00804601, -77.72414152, ..., -77.05690932,\n",
       "          -76.75069856, -77.83413314]],\n",
       "\n",
       "        [[-50.13566563, -50.27117887, -49.40939341, ..., -50.4458442 ,\n",
       "          -49.90737406, -49.92839745],\n",
       "         [-52.03635922, -49.61573299, -49.28864279, ..., -50.62383388,\n",
       "          -50.66359547, -51.51872513],\n",
       "         [-52.60534687, -52.4026824 , -52.68061525, ..., -53.71309359,\n",
       "          -53.38340836, -53.98625589],\n",
       "         ...,\n",
       "         [-75.56465547, -74.35110334, -73.7262883 , ..., -74.87363358,\n",
       "          -75.46012622, -74.49991043],\n",
       "         [-72.0049411 , -74.45693776, -74.64185485, ..., -75.14289968,\n",
       "          -76.75508814, -77.1150487 ],\n",
       "         [-72.67004707, -73.0584746 , -72.41502093, ..., -74.36425714,\n",
       "          -75.5108602 , -76.7515405 ]],\n",
       "\n",
       "        [[-51.03141966, -49.89995675, -49.63437853, ..., -50.35939352,\n",
       "          -50.62784989, -50.72378581],\n",
       "         [-52.03484886, -49.86630895, -49.20670934, ..., -51.01538779,\n",
       "          -51.27541578, -51.85841228],\n",
       "         [-52.85142593, -52.87076442, -52.4379963 , ..., -53.98199457,\n",
       "          -53.70643851, -54.79183008],\n",
       "         ...,\n",
       "         [-78.21132647, -76.54247204, -76.39231597, ..., -77.01288264,\n",
       "          -77.5857671 , -77.00605107],\n",
       "         [-75.93592232, -76.91745024, -76.63420466, ..., -77.9939101 ,\n",
       "          -79.00822807, -79.23164424],\n",
       "         [-74.8303164 , -75.64859079, -74.72100521, ..., -76.52070206,\n",
       "          -75.43829247, -76.91687118]]],\n",
       "\n",
       "\n",
       "       ...,\n",
       "\n",
       "\n",
       "       [[[-67.57002354, -68.47537509, -68.20823636, ..., -64.75678634,\n",
       "          -66.7091142 , -67.38288621],\n",
       "         [-66.23174493, -66.0835276 , -65.99235218, ..., -65.79331003,\n",
       "          -66.56062823, -65.64661928],\n",
       "         [-65.57323529, -65.27471407, -66.52044914, ..., -66.63294377,\n",
       "          -66.99520073, -66.20709755],\n",
       "         ...,\n",
       "         [-76.68475327, -75.55970165, -75.4345464 , ..., -72.92942882,\n",
       "          -73.20676022, -72.95193938],\n",
       "         [-75.44973971, -75.44713743, -75.16974792, ..., -73.04593474,\n",
       "          -72.89738213, -73.67619225],\n",
       "         [-72.9116505 , -73.88052665, -74.52284115, ..., -73.34615992,\n",
       "          -73.35620702, -72.81099794]],\n",
       "\n",
       "        [[-55.82503613, -56.22574383, -57.20323646, ..., -54.17407064,\n",
       "          -56.45958004, -56.33771031],\n",
       "         [-56.00681849, -56.54486497, -56.53647932, ..., -54.48102346,\n",
       "          -55.64963156, -54.85706524],\n",
       "         [-55.87061198, -55.78138515, -55.86325755, ..., -55.66049629,\n",
       "          -56.3987814 , -55.75985394],\n",
       "         ...,\n",
       "         [-71.15357016, -71.04115271, -71.72776345, ..., -69.58130202,\n",
       "          -69.25745944, -70.52976398],\n",
       "         [-72.7654962 , -71.49395077, -71.38243391, ..., -68.64922675,\n",
       "          -69.30158964, -69.84054881],\n",
       "         [-68.22080142, -67.96272582, -69.22968991, ..., -66.96890582,\n",
       "          -65.61269533, -67.19295753]],\n",
       "\n",
       "        [[-56.16039682, -57.03834296, -57.57387013, ..., -53.76994939,\n",
       "          -55.13046529, -55.10324415],\n",
       "         [-55.73118783, -56.41034777, -56.6886473 , ..., -54.24669499,\n",
       "          -55.37580719, -54.19995642],\n",
       "         [-56.18998048, -56.63116104, -56.96329511, ..., -54.87628842,\n",
       "          -55.43305265, -55.48634602],\n",
       "         ...,\n",
       "         [-73.7453685 , -74.44550814, -73.53298281, ..., -72.25436453,\n",
       "          -71.90755986, -72.75161957],\n",
       "         [-74.76820579, -74.61568969, -73.12819394, ..., -72.29685816,\n",
       "          -72.23352965, -72.92380139],\n",
       "         [-66.89711111, -67.60632522, -68.38969772, ..., -66.61219691,\n",
       "          -66.27845009, -66.51797736]]],\n",
       "\n",
       "\n",
       "       [[[-67.30721586, -68.4728102 , -67.47750859, ..., -64.3985635 ,\n",
       "          -66.0774191 , -67.37578044],\n",
       "         [-66.17634918, -66.2731208 , -66.24710104, ..., -65.21074384,\n",
       "          -65.77673002, -65.18505064],\n",
       "         [-65.05437921, -65.17205695, -66.04982276, ..., -65.1289342 ,\n",
       "          -65.67213923, -65.76710597],\n",
       "         ...,\n",
       "         [-72.55282713, -72.65461809, -72.33047314, ..., -73.06425482,\n",
       "          -73.20820132, -73.07644963],\n",
       "         [-72.54184642, -73.30546673, -72.46436939, ..., -73.16903543,\n",
       "          -72.27908601, -73.35190161],\n",
       "         [-71.50924628, -71.99278868, -72.69720812, ..., -71.88009173,\n",
       "          -73.02837729, -72.4169671 ]],\n",
       "\n",
       "        [[-56.85669859, -57.04418672, -57.59376359, ..., -53.87002461,\n",
       "          -55.38634868, -56.06988305],\n",
       "         [-56.54740098, -56.90217252, -56.92780441, ..., -54.80024913,\n",
       "          -55.39856658, -55.52223845],\n",
       "         [-55.61880075, -56.37763622, -56.22838257, ..., -55.61025093,\n",
       "          -56.34169361, -56.23412667],\n",
       "         ...,\n",
       "         [-68.29554759, -68.40392356, -68.86201061, ..., -69.47250126,\n",
       "          -69.20159862, -70.18609826],\n",
       "         [-70.06958215, -68.93454139, -67.83689449, ..., -68.98893078,\n",
       "          -69.91113431, -70.23577532],\n",
       "         [-66.68952518, -66.06825686, -67.88814659, ..., -66.92739959,\n",
       "          -66.48712778, -67.13856154]],\n",
       "\n",
       "        [[-57.14507584, -57.43708794, -56.9698495 , ..., -53.13499992,\n",
       "          -54.95440624, -55.04340512],\n",
       "         [-56.20090757, -56.61884448, -56.87351059, ..., -54.04393665,\n",
       "          -55.17624584, -54.70453696],\n",
       "         [-56.32389728, -56.7187819 , -57.03630106, ..., -54.97383474,\n",
       "          -55.87441797, -56.25871346],\n",
       "         ...,\n",
       "         [-71.08773459, -70.85338248, -71.26589781, ..., -71.41883293,\n",
       "          -71.58121882, -72.3096437 ],\n",
       "         [-71.76789376, -71.78121633, -69.81536463, ..., -72.65155585,\n",
       "          -72.15932284, -72.52934351],\n",
       "         [-65.67258609, -66.10762673, -66.79229766, ..., -66.28319691,\n",
       "          -66.43707764, -66.14890364]]],\n",
       "\n",
       "\n",
       "       [[[-67.08737649, -67.42074824, -67.28687737, ..., -66.98229486,\n",
       "          -67.54693905, -67.75140479],\n",
       "         [-66.38421938, -66.6850314 , -66.14622795, ..., -66.51235436,\n",
       "          -67.08250181, -67.17347871],\n",
       "         [-66.6281792 , -66.62292793, -66.90744086, ..., -66.75140203,\n",
       "          -66.91739292, -67.44671165],\n",
       "         ...,\n",
       "         [-75.26548593, -74.94059712, -75.36755218, ..., -75.77094197,\n",
       "          -76.38493006, -76.10818309],\n",
       "         [-75.35014683, -75.59916147, -74.90979263, ..., -75.39128614,\n",
       "          -75.2792459 , -76.30096054],\n",
       "         [-74.05755119, -74.7900819 , -74.25550768, ..., -74.87720874,\n",
       "          -75.69178981, -75.13169525]],\n",
       "\n",
       "        [[-55.19346355, -55.74227135, -56.31725719, ..., -54.95393525,\n",
       "          -55.2247343 , -55.63545543],\n",
       "         [-55.93843019, -56.24706975, -56.04251041, ..., -55.22146036,\n",
       "          -56.70689158, -56.57009822],\n",
       "         [-56.46314177, -56.44261279, -56.61172384, ..., -56.83802488,\n",
       "          -57.14110842, -57.33681329],\n",
       "         ...,\n",
       "         [-71.40321444, -71.21330334, -71.20998191, ..., -72.40030007,\n",
       "          -72.72727839, -72.44606464],\n",
       "         [-72.29030501, -71.54548996, -71.0787447 , ..., -71.83593892,\n",
       "          -72.70222015, -72.66590689],\n",
       "         [-69.39072215, -68.84294313, -69.87345803, ..., -69.43971864,\n",
       "          -69.50284806, -70.04764576]],\n",
       "\n",
       "        [[-55.68932686, -56.14438621, -56.08998529, ..., -54.38246551,\n",
       "          -55.11851976, -55.29347348],\n",
       "         [-55.7049591 , -56.07052121, -55.83989212, ..., -54.86934753,\n",
       "          -55.93507174, -55.62605538],\n",
       "         [-57.05472386, -56.98643976, -56.85657351, ..., -55.45117413,\n",
       "          -56.2216539 , -56.74508934],\n",
       "         ...,\n",
       "         [-74.04423794, -73.98820093, -74.12281389, ..., -75.27981781,\n",
       "          -75.24689342, -74.93268443],\n",
       "         [-74.66815012, -74.57745029, -73.48842041, ..., -75.27675588,\n",
       "          -75.48451915, -75.60578672],\n",
       "         [-68.85366095, -69.27713647, -69.83334374, ..., -69.50961568,\n",
       "          -69.32590599, -69.11917311]]]])"
      ]
     },
     "execution_count": 9,
     "metadata": {},
     "output_type": "execute_result"
    }
   ],
   "source": [
    "low_rank.values"
   ]
  },
  {
   "cell_type": "code",
   "execution_count": 10,
   "metadata": {},
   "outputs": [
    {
     "data": {
      "text/plain": [
       "(62, 3, 37, 144)"
      ]
     },
     "execution_count": 10,
     "metadata": {},
     "output_type": "execute_result"
    }
   ],
   "source": [
    "low_rank.values.shape"
   ]
  },
  {
   "cell_type": "code",
   "execution_count": 7,
   "metadata": {},
   "outputs": [
    {
     "data": {
      "text/plain": [
       "xarray.core.dataarray.DataArray"
      ]
     },
     "execution_count": 7,
     "metadata": {},
     "output_type": "execute_result"
    }
   ],
   "source": [
    "type(low_rank)"
   ]
  },
  {
   "cell_type": "markdown",
   "metadata": {},
   "source": [
    "### Separate data for each frequency using .loc and frequency labels"
   ]
  },
  {
   "cell_type": "code",
   "execution_count": 8,
   "metadata": {},
   "outputs": [],
   "source": [
    "hz38 = low_rank.loc[:,38000,:,:]\n",
    "hz120 = low_rank.loc[:,120000,:,:]\n",
    "hz200= low_rank.loc[:,200000,:,:]"
   ]
  },
  {
   "cell_type": "code",
   "execution_count": 9,
   "metadata": {},
   "outputs": [
    {
     "data": {
      "text/plain": [
       "(62, 37, 144)"
      ]
     },
     "execution_count": 9,
     "metadata": {},
     "output_type": "execute_result"
    }
   ],
   "source": [
    "hz200.shape"
   ]
  },
  {
   "cell_type": "code",
   "execution_count": 10,
   "metadata": {},
   "outputs": [
    {
     "data": {
      "text/plain": [
       "True"
      ]
     },
     "execution_count": 10,
     "metadata": {},
     "output_type": "execute_result"
    }
   ],
   "source": [
    "hz200.shape == hz38.shape == hz120.shape"
   ]
  },
  {
   "cell_type": "markdown",
   "metadata": {},
   "source": [
    "Now data for each frequency is in separate xarrays. Below is what was done in original notebook to rehape low_rank"
   ]
  },
  {
   "cell_type": "code",
   "execution_count": 11,
   "metadata": {},
   "outputs": [],
   "source": [
    "low_rank = low_rank.values.reshape([n_observations,-1])"
   ]
  },
  {
   "cell_type": "code",
   "execution_count": 12,
   "metadata": {},
   "outputs": [
    {
     "data": {
      "text/plain": [
       "(62, 15984)"
      ]
     },
     "execution_count": 12,
     "metadata": {},
     "output_type": "execute_result"
    }
   ],
   "source": [
    "low_rank.shape"
   ]
  },
  {
   "cell_type": "code",
   "execution_count": 13,
   "metadata": {},
   "outputs": [],
   "source": [
    "low_rank_nonneg = low_rank - low_rank.min()"
   ]
  },
  {
   "cell_type": "code",
   "execution_count": 14,
   "metadata": {},
   "outputs": [
    {
     "data": {
      "text/plain": [
       "(62, 15984)"
      ]
     },
     "execution_count": 14,
     "metadata": {},
     "output_type": "execute_result"
    }
   ],
   "source": [
    "low_rank_nonneg.shape"
   ]
  },
  {
   "cell_type": "markdown",
   "metadata": {},
   "source": [
    "Lets do the same thing with our single-frequency matrices"
   ]
  },
  {
   "cell_type": "code",
   "execution_count": 15,
   "metadata": {},
   "outputs": [],
   "source": [
    "hz38 = hz38.values.reshape([n_observations, -1])\n",
    "hz120 = hz120.values.reshape([n_observations, -1])\n",
    "hz200 = hz200.values.reshape([n_observations, -1])"
   ]
  },
  {
   "cell_type": "code",
   "execution_count": 16,
   "metadata": {},
   "outputs": [
    {
     "data": {
      "text/plain": [
       "(62, 5328)"
      ]
     },
     "execution_count": 16,
     "metadata": {},
     "output_type": "execute_result"
    }
   ],
   "source": [
    "hz38.shape"
   ]
  },
  {
   "cell_type": "code",
   "execution_count": 17,
   "metadata": {},
   "outputs": [
    {
     "data": {
      "text/plain": [
       "True"
      ]
     },
     "execution_count": 17,
     "metadata": {},
     "output_type": "execute_result"
    }
   ],
   "source": [
    "hz38.shape == hz120.shape == hz200.shape"
   ]
  },
  {
   "cell_type": "code",
   "execution_count": 18,
   "metadata": {},
   "outputs": [],
   "source": [
    "hz38_nonneg = hz38 - hz38.min()\n",
    "hz120_nonneg = hz120 - hz120.min()\n",
    "hz200_nonneg = hz200 - hz200.min()"
   ]
  },
  {
   "cell_type": "code",
   "execution_count": 19,
   "metadata": {},
   "outputs": [
    {
     "data": {
      "text/plain": [
       "(62, 5328)"
      ]
     },
     "execution_count": 19,
     "metadata": {},
     "output_type": "execute_result"
    }
   ],
   "source": [
    "hz38_nonneg.shape"
   ]
  },
  {
   "cell_type": "code",
   "execution_count": 20,
   "metadata": {},
   "outputs": [
    {
     "data": {
      "text/plain": [
       "True"
      ]
     },
     "execution_count": 20,
     "metadata": {},
     "output_type": "execute_result"
    }
   ],
   "source": [
    "hz38.shape == hz120.shape == hz200.shape"
   ]
  },
  {
   "cell_type": "markdown",
   "metadata": {},
   "source": [
    "## Run PCA on data"
   ]
  },
  {
   "cell_type": "markdown",
   "metadata": {},
   "source": [
    "This is code from original notebook on full dataset"
   ]
  },
  {
   "cell_type": "code",
   "execution_count": 21,
   "metadata": {},
   "outputs": [
    {
     "data": {
      "text/plain": [
       "PCA(svd_solver='full')"
      ]
     },
     "execution_count": 21,
     "metadata": {},
     "output_type": "execute_result"
    }
   ],
   "source": [
    "model_PCA = PCA(svd_solver='full')\n",
    "model_PCA.fit(low_rank_nonneg)"
   ]
  },
  {
   "cell_type": "code",
   "execution_count": 22,
   "metadata": {},
   "outputs": [
    {
     "data": {
      "image/png": "[encoded data removed]",
      "text/plain": [
       "<Figure size 864x216 with 2 Axes>"
      ]
     },
     "metadata": {
      "needs_background": "light"
     },
     "output_type": "display_data"
    }
   ],
   "source": [
    "fig,ax = plt.subplots(1,2,figsize=(12,3))\n",
    "ax[0].plot(model_PCA.singular_values_,'.')\n",
    "ax[0].set_title('Singular values')\n",
    "ax[0].set_xlim(-1,15)\n",
    "ax[0].grid()\n",
    "ax[1].plot(model_PCA.explained_variance_,'.')\n",
    "ax[1].set_title('Explained variance')\n",
    "ax[1].set_xlim(-1,15)\n",
    "ax[1].grid()\n",
    "plt.show()"
   ]
  },
  {
   "cell_type": "markdown",
   "metadata": {},
   "source": [
    "Lets do the same with our single-frequency datasets"
   ]
  },
  {
   "cell_type": "markdown",
   "metadata": {},
   "source": [
    "### 38 hz PCA"
   ]
  },
  {
   "cell_type": "code",
   "execution_count": 23,
   "metadata": {},
   "outputs": [
    {
     "data": {
      "text/plain": [
       "PCA(svd_solver='full')"
      ]
     },
     "execution_count": 23,
     "metadata": {},
     "output_type": "execute_result"
    }
   ],
   "source": [
    "hz38_model_PCA = PCA(svd_solver='full')\n",
    "hz38_model_PCA.fit(hz38_nonneg)"
   ]
  },
  {
   "cell_type": "code",
   "execution_count": 24,
   "metadata": {},
   "outputs": [
    {
     "data": {
      "image/png": "[encoded data removed]",
      "text/plain": [
       "<Figure size 864x216 with 2 Axes>"
      ]
     },
     "metadata": {
      "needs_background": "light"
     },
     "output_type": "display_data"
    }
   ],
   "source": [
    "fig,ax = plt.subplots(1,2,figsize=(12,3))\n",
    "ax[0].plot(hz38_model_PCA.singular_values_,'.')\n",
    "ax[0].set_title('hz38 Singular values')\n",
    "ax[0].set_xlim(-1,15)\n",
    "ax[0].grid()\n",
    "ax[1].plot(hz38_model_PCA.explained_variance_,'.')\n",
    "ax[1].set_title('hz38 Explained variance')\n",
    "ax[1].set_xlim(-1,15)\n",
    "ax[1].grid()\n",
    "plt.show()"
   ]
  },
  {
   "cell_type": "markdown",
   "metadata": {},
   "source": [
    "### 120 hz PCA"
   ]
  },
  {
   "cell_type": "code",
   "execution_count": 25,
   "metadata": {},
   "outputs": [
    {
     "data": {
      "text/plain": [
       "PCA(svd_solver='full')"
      ]
     },
     "execution_count": 25,
     "metadata": {},
     "output_type": "execute_result"
    }
   ],
   "source": [
    "hz120_model_PCA = PCA(svd_solver='full')\n",
    "hz120_model_PCA.fit(hz120_nonneg)"
   ]
  },
  {
   "cell_type": "code",
   "execution_count": 26,
   "metadata": {},
   "outputs": [
    {
     "data": {
      "image/png": "[encoded data removed]",
      "text/plain": [
       "<Figure size 864x216 with 2 Axes>"
      ]
     },
     "metadata": {
      "needs_background": "light"
     },
     "output_type": "display_data"
    }
   ],
   "source": [
    "fig,ax = plt.subplots(1,2,figsize=(12,3))\n",
    "ax[0].plot(hz120_model_PCA.singular_values_,'.')\n",
    "ax[0].set_title('hz120 Singular values')\n",
    "ax[0].set_xlim(-1,15)\n",
    "ax[0].grid()\n",
    "ax[1].plot(hz120_model_PCA.explained_variance_,'.')\n",
    "ax[1].set_title('hz120 Explained variance')\n",
    "ax[1].set_xlim(-1,15)\n",
    "ax[1].grid()\n",
    "plt.show()"
   ]
  },
  {
   "cell_type": "markdown",
   "metadata": {},
   "source": [
    "### hz200 PCA"
   ]
  },
  {
   "cell_type": "code",
   "execution_count": 29,
   "metadata": {},
   "outputs": [
    {
     "data": {
      "text/plain": [
       "PCA(svd_solver='full')"
      ]
     },
     "execution_count": 29,
     "metadata": {},
     "output_type": "execute_result"
    }
   ],
   "source": [
    "hz200_model_PCA = PCA(svd_solver='full')\n",
    "hz200_model_PCA.fit(hz200_nonneg)"
   ]
  },
  {
   "cell_type": "code",
   "execution_count": 30,
   "metadata": {},
   "outputs": [
    {
     "data": {
      "image/png": "[encoded data removed]",
      "text/plain": [
       "<Figure size 864x216 with 2 Axes>"
      ]
     },
     "metadata": {
      "needs_background": "light"
     },
     "output_type": "display_data"
    }
   ],
   "source": [
    "fig,ax = plt.subplots(1,2,figsize=(12,3))\n",
    "ax[0].plot(hz200_model_PCA.singular_values_,'.')\n",
    "ax[0].set_title('hz200 Singular values')\n",
    "ax[0].set_xlim(-1,15)\n",
    "ax[0].grid()\n",
    "ax[1].plot(hz200_model_PCA.explained_variance_,'.')\n",
    "ax[1].set_title('hz200 Explained variance')\n",
    "ax[1].set_xlim(-1,15)\n",
    "ax[1].grid()\n",
    "plt.show()"
   ]
  },
  {
   "cell_type": "markdown",
   "metadata": {},
   "source": [
    "### Check normalization"
   ]
  },
  {
   "cell_type": "markdown",
   "metadata": {},
   "source": [
    "Original code from notebook on full dataset"
   ]
  },
  {
   "cell_type": "code",
   "execution_count": 31,
   "metadata": {},
   "outputs": [],
   "source": [
    "W_PCA = model_PCA.components_\n",
    "H_PCA = model_PCA.fit_transform(low_rank_nonneg)"
   ]
  },
  {
   "cell_type": "code",
   "execution_count": 32,
   "metadata": {},
   "outputs": [
    {
     "data": {
      "text/plain": [
       "((62, 15984), (62, 62))"
      ]
     },
     "execution_count": 32,
     "metadata": {},
     "output_type": "execute_result"
    }
   ],
   "source": [
    "(W_PCA.shape, H_PCA.shape)"
   ]
  },
  {
   "cell_type": "code",
   "execution_count": 33,
   "metadata": {},
   "outputs": [
    {
     "data": {
      "text/plain": [
       "((62,), (62,))"
      ]
     },
     "execution_count": 33,
     "metadata": {},
     "output_type": "execute_result"
    }
   ],
   "source": [
    "# Calculate norm for W and H\n",
    "weights_W = np.linalg.norm(W_PCA, axis=1)\n",
    "weights_H = np.linalg.norm(H_PCA.T,axis=0)\n",
    "(weights_W.shape, weights_H.shape)"
   ]
  },
  {
   "cell_type": "code",
   "execution_count": 34,
   "metadata": {},
   "outputs": [
    {
     "data": {
      "text/plain": [
       "(array([1., 1., 1., 1., 1., 1., 1., 1., 1., 1., 1., 1., 1., 1., 1., 1., 1.,\n",
       "        1., 1., 1., 1., 1., 1., 1., 1., 1., 1., 1., 1., 1., 1., 1., 1., 1.,\n",
       "        1., 1., 1., 1., 1., 1., 1., 1., 1., 1., 1., 1., 1., 1., 1., 1., 1.,\n",
       "        1., 1., 1., 1., 1., 1., 1., 1., 1., 1., 1.]),\n",
       " array([278.66212749, 381.45001099, 497.3019365 , 547.58756196,\n",
       "        583.58088279, 424.9269643 , 426.5113725 , 631.36305039,\n",
       "        589.897248  , 507.4698314 , 445.20096398, 402.14709285,\n",
       "        357.21230954, 288.38694362, 393.99613175, 350.6043334 ,\n",
       "        299.33053443, 368.79597739, 452.68630105, 530.68735733,\n",
       "        407.03068001, 433.03967449, 380.69532826, 280.3272372 ,\n",
       "        264.65616131, 219.2006776 , 511.34378146, 639.34705165,\n",
       "        326.67879261, 285.76145348, 322.15469482, 296.28474945,\n",
       "        345.89804654, 435.66748916, 425.24509224, 198.60771347,\n",
       "        327.93671102, 343.08053027, 334.55670099, 322.06709818,\n",
       "        251.56935841, 519.44850982, 519.27258084, 429.06022353,\n",
       "        233.05293672, 432.93303823, 680.55705201, 631.53556404,\n",
       "        711.6333912 , 585.303897  , 601.78004766, 247.8234742 ,\n",
       "        202.73502512, 162.1030358 , 306.99469381, 257.6384883 ,\n",
       "        329.77531781, 277.09466864, 269.75655903, 371.49307408,\n",
       "        463.27898394, 280.64750861]))"
      ]
     },
     "execution_count": 34,
     "metadata": {},
     "output_type": "execute_result"
    }
   ],
   "source": [
    "(weights_W, weights_H)"
   ]
  },
  {
   "cell_type": "markdown",
   "metadata": {},
   "source": [
    "We can see that all the weights are factored out to $\\mathbf{H}$."
   ]
  },
  {
   "cell_type": "markdown",
   "metadata": {},
   "source": [
    "### Check normalization hz38"
   ]
  },
  {
   "cell_type": "code",
   "execution_count": 35,
   "metadata": {},
   "outputs": [],
   "source": [
    "hz38_W_PCA = hz38_model_PCA.components_\n",
    "hz38_H_PCA = hz38_model_PCA.fit_transform(hz38_nonneg)"
   ]
  },
  {
   "cell_type": "code",
   "execution_count": 36,
   "metadata": {},
   "outputs": [
    {
     "data": {
      "text/plain": [
       "((62, 5328), (62, 62))"
      ]
     },
     "execution_count": 36,
     "metadata": {},
     "output_type": "execute_result"
    }
   ],
   "source": [
    "(hz38_W_PCA.shape, hz38_H_PCA.shape)"
   ]
  },
  {
   "cell_type": "code",
   "execution_count": 37,
   "metadata": {},
   "outputs": [
    {
     "data": {
      "text/plain": [
       "((62,), (62,))"
      ]
     },
     "execution_count": 37,
     "metadata": {},
     "output_type": "execute_result"
    }
   ],
   "source": [
    "# Calculate norm for W and H\n",
    "hz38_weights_W = np.linalg.norm(hz38_W_PCA, axis=1)\n",
    "hz38_weights_H = np.linalg.norm(hz38_H_PCA.T,axis=0)\n",
    "(hz38_weights_W.shape, hz38_weights_H.shape)"
   ]
  },
  {
   "cell_type": "code",
   "execution_count": 38,
   "metadata": {},
   "outputs": [
    {
     "data": {
      "text/plain": [
       "(array([1., 1., 1., 1., 1., 1., 1., 1., 1., 1., 1., 1., 1., 1., 1., 1., 1.,\n",
       "        1., 1., 1., 1., 1., 1., 1., 1., 1., 1., 1., 1., 1., 1., 1., 1., 1.,\n",
       "        1., 1., 1., 1., 1., 1., 1., 1., 1., 1., 1., 1., 1., 1., 1., 1., 1.,\n",
       "        1., 1., 1., 1., 1., 1., 1., 1., 1., 1., 1.]),\n",
       " array([194.11184261, 271.9664827 , 337.11772057, 380.56693911,\n",
       "        400.54169529, 298.63463987, 301.64582198, 439.96174878,\n",
       "        410.88564137, 360.20748626, 320.9361166 , 288.65243228,\n",
       "        258.96398204, 206.15662142, 272.30493447, 252.96819645,\n",
       "        178.55987491, 231.96005908, 291.83197215, 339.78438381,\n",
       "        276.5258441 , 295.7061623 , 252.11043474, 205.15457257,\n",
       "        192.63119909, 153.51390805, 348.08094233, 414.70058407,\n",
       "        185.6205109 , 206.16535955, 226.19483475, 204.03884504,\n",
       "        268.63812158, 301.8891636 , 302.48532107, 112.77073732,\n",
       "        227.43476654, 224.45728075, 209.4666916 , 219.15669789,\n",
       "        192.73033283, 400.20900404, 412.30939608, 327.96975211,\n",
       "        154.6442498 , 331.07590032, 532.11519138, 474.18093261,\n",
       "        539.45223374, 423.26008273, 452.29046073, 130.87689464,\n",
       "        134.45261254, 108.27786346, 188.83273553, 132.45015586,\n",
       "        243.88976792, 230.5850093 , 163.80123835, 269.10584743,\n",
       "        330.41613443, 169.09810778]))"
      ]
     },
     "execution_count": 38,
     "metadata": {},
     "output_type": "execute_result"
    }
   ],
   "source": [
    "(hz38_weights_W, hz38_weights_H)"
   ]
  },
  {
   "cell_type": "markdown",
   "metadata": {},
   "source": [
    "We can see that all the weights are factored out to $\\mathbf{H}$."
   ]
  },
  {
   "cell_type": "markdown",
   "metadata": {},
   "source": [
    "### Check normalization hz120"
   ]
  },
  {
   "cell_type": "code",
   "execution_count": 40,
   "metadata": {},
   "outputs": [],
   "source": [
    "hz120_W_PCA = hz120_model_PCA.components_\n",
    "hz120_H_PCA = hz120_model_PCA.fit_transform(hz120_nonneg)"
   ]
  },
  {
   "cell_type": "code",
   "execution_count": 41,
   "metadata": {},
   "outputs": [
    {
     "data": {
      "text/plain": [
       "((62, 5328), (62, 62))"
      ]
     },
     "execution_count": 41,
     "metadata": {},
     "output_type": "execute_result"
    }
   ],
   "source": [
    "(hz120_W_PCA.shape, hz120_H_PCA.shape)"
   ]
  },
  {
   "cell_type": "code",
   "execution_count": 42,
   "metadata": {},
   "outputs": [
    {
     "data": {
      "text/plain": [
       "((62,), (62,))"
      ]
     },
     "execution_count": 42,
     "metadata": {},
     "output_type": "execute_result"
    }
   ],
   "source": [
    "# Calculate norm for W and H\n",
    "hz120_weights_W = np.linalg.norm(hz120_W_PCA, axis=1)\n",
    "hz120_weights_H = np.linalg.norm(hz120_H_PCA.T,axis=0)\n",
    "(hz120_weights_W.shape, hz120_weights_H.shape)"
   ]
  },
  {
   "cell_type": "code",
   "execution_count": 43,
   "metadata": {},
   "outputs": [
    {
     "data": {
      "text/plain": [
       "(array([1., 1., 1., 1., 1., 1., 1., 1., 1., 1., 1., 1., 1., 1., 1., 1., 1.,\n",
       "        1., 1., 1., 1., 1., 1., 1., 1., 1., 1., 1., 1., 1., 1., 1., 1., 1.,\n",
       "        1., 1., 1., 1., 1., 1., 1., 1., 1., 1., 1., 1., 1., 1., 1., 1., 1.,\n",
       "        1., 1., 1., 1., 1., 1., 1., 1., 1., 1., 1.]),\n",
       " array([144.76196966, 216.42703351, 285.91297898, 316.26477294,\n",
       "        341.13126834, 240.73795421, 244.03322102, 366.96631941,\n",
       "        341.9827829 , 275.05356382, 234.21474356, 215.99115656,\n",
       "        189.73559396, 154.3771526 , 214.98825009, 189.48519003,\n",
       "        172.44701069, 207.58282997, 247.39529504, 298.23502912,\n",
       "        227.53622005, 239.07543514, 213.0820015 , 147.09975715,\n",
       "        136.72856537, 121.38771542, 284.21676203, 360.95829047,\n",
       "        181.97073693, 157.89921406, 183.00939545, 163.65277284,\n",
       "        174.42030523, 243.31718094, 223.80115493, 110.22671823,\n",
       "        169.62196554, 185.46731313, 187.37190786, 179.74061161,\n",
       "        121.75962365, 259.5485789 , 256.87204925, 218.78297117,\n",
       "        130.92158009, 222.85540466, 339.27816153, 325.72496972,\n",
       "        363.983942  , 308.25707057, 306.26740473, 140.32766111,\n",
       "        105.08914566,  82.7547809 , 169.41900215, 139.53514385,\n",
       "        178.18690619, 132.52188024, 132.31855682, 205.38810363,\n",
       "        264.35641077, 154.85368204]))"
      ]
     },
     "execution_count": 43,
     "metadata": {},
     "output_type": "execute_result"
    }
   ],
   "source": [
    "(hz120_weights_W, hz120_weights_H)"
   ]
  },
  {
   "cell_type": "markdown",
   "metadata": {},
   "source": [
    "We can see that all the weights are factored out to $\\mathbf{H}$."
   ]
  },
  {
   "cell_type": "markdown",
   "metadata": {},
   "source": [
    "### Check normalization for hz200"
   ]
  },
  {
   "cell_type": "code",
   "execution_count": 44,
   "metadata": {},
   "outputs": [],
   "source": [
    "hz200_W_PCA = hz200_model_PCA.components_\n",
    "hz200_H_PCA = hz200_model_PCA.fit_transform(hz38_nonneg)"
   ]
  },
  {
   "cell_type": "code",
   "execution_count": 45,
   "metadata": {},
   "outputs": [
    {
     "data": {
      "text/plain": [
       "((62, 5328), (62, 62))"
      ]
     },
     "execution_count": 45,
     "metadata": {},
     "output_type": "execute_result"
    }
   ],
   "source": [
    "(hz200_W_PCA.shape, hz200_H_PCA.shape)"
   ]
  },
  {
   "cell_type": "code",
   "execution_count": 46,
   "metadata": {},
   "outputs": [
    {
     "data": {
      "text/plain": [
       "((62,), (62,))"
      ]
     },
     "execution_count": 46,
     "metadata": {},
     "output_type": "execute_result"
    }
   ],
   "source": [
    "# Calculate norm for W and H\n",
    "hz200_weights_W = np.linalg.norm(hz200_W_PCA, axis=1)\n",
    "hz200_weights_H = np.linalg.norm(hz200_H_PCA.T,axis=0)\n",
    "(hz200_weights_W.shape, hz200_weights_H.shape)"
   ]
  },
  {
   "cell_type": "code",
   "execution_count": 47,
   "metadata": {},
   "outputs": [
    {
     "data": {
      "text/plain": [
       "(array([1., 1., 1., 1., 1., 1., 1., 1., 1., 1., 1., 1., 1., 1., 1., 1., 1.,\n",
       "        1., 1., 1., 1., 1., 1., 1., 1., 1., 1., 1., 1., 1., 1., 1., 1., 1.,\n",
       "        1., 1., 1., 1., 1., 1., 1., 1., 1., 1., 1., 1., 1., 1., 1., 1., 1.,\n",
       "        1., 1., 1., 1., 1., 1., 1., 1., 1., 1., 1.]),\n",
       " array([194.11184261, 271.9664827 , 337.11772057, 380.56693911,\n",
       "        400.54169529, 298.63463987, 301.64582198, 439.96174878,\n",
       "        410.88564137, 360.20748626, 320.9361166 , 288.65243228,\n",
       "        258.96398204, 206.15662142, 272.30493447, 252.96819645,\n",
       "        178.55987491, 231.96005908, 291.83197215, 339.78438381,\n",
       "        276.5258441 , 295.7061623 , 252.11043474, 205.15457257,\n",
       "        192.63119909, 153.51390805, 348.08094233, 414.70058407,\n",
       "        185.6205109 , 206.16535955, 226.19483475, 204.03884504,\n",
       "        268.63812158, 301.8891636 , 302.48532107, 112.77073732,\n",
       "        227.43476654, 224.45728075, 209.4666916 , 219.15669789,\n",
       "        192.73033283, 400.20900404, 412.30939608, 327.96975211,\n",
       "        154.6442498 , 331.07590032, 532.11519138, 474.18093261,\n",
       "        539.45223374, 423.26008273, 452.29046073, 130.87689464,\n",
       "        134.45261254, 108.27786346, 188.83273553, 132.45015586,\n",
       "        243.88976792, 230.5850093 , 163.80123835, 269.10584743,\n",
       "        330.41613443, 169.09810778]))"
      ]
     },
     "execution_count": 47,
     "metadata": {},
     "output_type": "execute_result"
    }
   ],
   "source": [
    "(hz200_weights_W, hz200_weights_H)"
   ]
  },
  {
   "cell_type": "markdown",
   "metadata": {},
   "source": [
    "We can see that all the weights are factored out to $\\mathbf{H}$."
   ]
  },
  {
   "cell_type": "markdown",
   "metadata": {},
   "source": [
    "## Fig. S5. PCA results"
   ]
  },
  {
   "cell_type": "markdown",
   "metadata": {},
   "source": [
    "Original code with all data"
   ]
  },
  {
   "cell_type": "markdown",
   "metadata": {},
   "source": [
    "Reshape PCA components back to daily echogram format. This pulls out first 3 principal components"
   ]
  },
  {
   "cell_type": "code",
   "execution_count": 60,
   "metadata": {},
   "outputs": [
    {
     "data": {
      "text/plain": [
       "(3, 111, 144)"
      ]
     },
     "execution_count": 60,
     "metadata": {},
     "output_type": "execute_result"
    }
   ],
   "source": [
    "components_PCA = np.array([W_PCA[x,:].reshape(n_frequencies*n_depth_levels,n_pings) \n",
    "                          for x in range(3)])\n",
    "components_PCA.shape"
   ]
  },
  {
   "cell_type": "markdown",
   "metadata": {},
   "source": [
    "Assemble dataset for activation so that it is easy to plot."
   ]
  },
  {
   "cell_type": "code",
   "execution_count": 49,
   "metadata": {},
   "outputs": [
    {
     "data": {
      "text/plain": [
       "(62, 62)"
      ]
     },
     "execution_count": 49,
     "metadata": {},
     "output_type": "execute_result"
    }
   ],
   "source": [
    "np.array(H_PCA).shape"
   ]
  },
  {
   "cell_type": "code",
   "execution_count": 50,
   "metadata": {},
   "outputs": [
    {
     "data": {
      "text/html": [
       "<div><svg style=\"position: absolute; width: 0; height: 0; overflow: hidden\">\n",
       "<defs>\n",
       "<symbol id=\"icon-database\" viewBox=\"0 0 32 32\">\n",
       "<path d=\"M16 0c-8.837 0-16 2.239-16 5v4c0 2.761 7.163 5 16 5s16-2.239 16-5v-4c0-2.761-7.163-5-16-5z\"></path>\n",
       "<path d=\"M16 17c-8.837 0-16-2.239-16-5v6c0 2.761 7.163 5 16 5s16-2.239 16-5v-6c0 2.761-7.163 5-16 5z\"></path>\n",
       "<path d=\"M16 26c-8.837 0-16-2.239-16-5v6c0 2.761 7.163 5 16 5s16-2.239 16-5v-6c0 2.761-7.163 5-16 5z\"></path>\n",
       "</symbol>\n",
       "<symbol id=\"icon-file-text2\" viewBox=\"0 0 32 32\">\n",
       "<path d=\"M28.681 7.159c-0.694-0.947-1.662-2.053-2.724-3.116s-2.169-2.030-3.116-2.724c-1.612-1.182-2.393-1.319-2.841-1.319h-15.5c-1.378 0-2.5 1.121-2.5 2.5v27c0 1.378 1.122 2.5 2.5 2.5h23c1.378 0 2.5-1.122 2.5-2.5v-19.5c0-0.448-0.137-1.23-1.319-2.841zM24.543 5.457c0.959 0.959 1.712 1.825 2.268 2.543h-4.811v-4.811c0.718 0.556 1.584 1.309 2.543 2.268zM28 29.5c0 0.271-0.229 0.5-0.5 0.5h-23c-0.271 0-0.5-0.229-0.5-0.5v-27c0-0.271 0.229-0.5 0.5-0.5 0 0 15.499-0 15.5 0v7c0 0.552 0.448 1 1 1h7v19.5z\"></path>\n",
       "<path d=\"M23 26h-14c-0.552 0-1-0.448-1-1s0.448-1 1-1h14c0.552 0 1 0.448 1 1s-0.448 1-1 1z\"></path>\n",
       "<path d=\"M23 22h-14c-0.552 0-1-0.448-1-1s0.448-1 1-1h14c0.552 0 1 0.448 1 1s-0.448 1-1 1z\"></path>\n",
       "<path d=\"M23 18h-14c-0.552 0-1-0.448-1-1s0.448-1 1-1h14c0.552 0 1 0.448 1 1s-0.448 1-1 1z\"></path>\n",
       "</symbol>\n",
       "</defs>\n",
       "</svg>\n",
       "<style>/* CSS stylesheet for displaying xarray objects in jupyterlab.\n",
       " *\n",
       " */\n",
       "\n",
       ":root {\n",
       "  --xr-font-color0: var(--jp-content-font-color0, rgba(0, 0, 0, 1));\n",
       "  --xr-font-color2: var(--jp-content-font-color2, rgba(0, 0, 0, 0.54));\n",
       "  --xr-font-color3: var(--jp-content-font-color3, rgba(0, 0, 0, 0.38));\n",
       "  --xr-border-color: var(--jp-border-color2, #e0e0e0);\n",
       "  --xr-disabled-color: var(--jp-layout-color3, #bdbdbd);\n",
       "  --xr-background-color: var(--jp-layout-color0, white);\n",
       "  --xr-background-color-row-even: var(--jp-layout-color1, white);\n",
       "  --xr-background-color-row-odd: var(--jp-layout-color2, #eeeeee);\n",
       "}\n",
       "\n",
       "html[theme=dark],\n",
       "body.vscode-dark {\n",
       "  --xr-font-color0: rgba(255, 255, 255, 1);\n",
       "  --xr-font-color2: rgba(255, 255, 255, 0.54);\n",
       "  --xr-font-color3: rgba(255, 255, 255, 0.38);\n",
       "  --xr-border-color: #1F1F1F;\n",
       "  --xr-disabled-color: #515151;\n",
       "  --xr-background-color: #111111;\n",
       "  --xr-background-color-row-even: #111111;\n",
       "  --xr-background-color-row-odd: #313131;\n",
       "}\n",
       "\n",
       ".xr-wrap {\n",
       "  display: block !important;\n",
       "  min-width: 300px;\n",
       "  max-width: 700px;\n",
       "}\n",
       "\n",
       ".xr-text-repr-fallback {\n",
       "  /* fallback to plain text repr when CSS is not injected (untrusted notebook) */\n",
       "  display: none;\n",
       "}\n",
       "\n",
       ".xr-header {\n",
       "  padding-top: 6px;\n",
       "  padding-bottom: 6px;\n",
       "  margin-bottom: 4px;\n",
       "  border-bottom: solid 1px var(--xr-border-color);\n",
       "}\n",
       "\n",
       ".xr-header > div,\n",
       ".xr-header > ul {\n",
       "  display: inline;\n",
       "  margin-top: 0;\n",
       "  margin-bottom: 0;\n",
       "}\n",
       "\n",
       ".xr-obj-type,\n",
       ".xr-array-name {\n",
       "  margin-left: 2px;\n",
       "  margin-right: 10px;\n",
       "}\n",
       "\n",
       ".xr-obj-type {\n",
       "  color: var(--xr-font-color2);\n",
       "}\n",
       "\n",
       ".xr-sections {\n",
       "  padding-left: 0 !important;\n",
       "  display: grid;\n",
       "  grid-template-columns: 150px auto auto 1fr 20px 20px;\n",
       "}\n",
       "\n",
       ".xr-section-item {\n",
       "  display: contents;\n",
       "}\n",
       "\n",
       ".xr-section-item input {\n",
       "  display: none;\n",
       "}\n",
       "\n",
       ".xr-section-item input + label {\n",
       "  color: var(--xr-disabled-color);\n",
       "}\n",
       "\n",
       ".xr-section-item input:enabled + label {\n",
       "  cursor: pointer;\n",
       "  color: var(--xr-font-color2);\n",
       "}\n",
       "\n",
       ".xr-section-item input:enabled + label:hover {\n",
       "  color: var(--xr-font-color0);\n",
       "}\n",
       "\n",
       ".xr-section-summary {\n",
       "  grid-column: 1;\n",
       "  color: var(--xr-font-color2);\n",
       "  font-weight: 500;\n",
       "}\n",
       "\n",
       ".xr-section-summary > span {\n",
       "  display: inline-block;\n",
       "  padding-left: 0.5em;\n",
       "}\n",
       "\n",
       ".xr-section-summary-in:disabled + label {\n",
       "  color: var(--xr-font-color2);\n",
       "}\n",
       "\n",
       ".xr-section-summary-in + label:before {\n",
       "  display: inline-block;\n",
       "  content: '►';\n",
       "  font-size: 11px;\n",
       "  width: 15px;\n",
       "  text-align: center;\n",
       "}\n",
       "\n",
       ".xr-section-summary-in:disabled + label:before {\n",
       "  color: var(--xr-disabled-color);\n",
       "}\n",
       "\n",
       ".xr-section-summary-in:checked + label:before {\n",
       "  content: '▼';\n",
       "}\n",
       "\n",
       ".xr-section-summary-in:checked + label > span {\n",
       "  display: none;\n",
       "}\n",
       "\n",
       ".xr-section-summary,\n",
       ".xr-section-inline-details {\n",
       "  padding-top: 4px;\n",
       "  padding-bottom: 4px;\n",
       "}\n",
       "\n",
       ".xr-section-inline-details {\n",
       "  grid-column: 2 / -1;\n",
       "}\n",
       "\n",
       ".xr-section-details {\n",
       "  display: none;\n",
       "  grid-column: 1 / -1;\n",
       "  margin-bottom: 5px;\n",
       "}\n",
       "\n",
       ".xr-section-summary-in:checked ~ .xr-section-details {\n",
       "  display: contents;\n",
       "}\n",
       "\n",
       ".xr-array-wrap {\n",
       "  grid-column: 1 / -1;\n",
       "  display: grid;\n",
       "  grid-template-columns: 20px auto;\n",
       "}\n",
       "\n",
       ".xr-array-wrap > label {\n",
       "  grid-column: 1;\n",
       "  vertical-align: top;\n",
       "}\n",
       "\n",
       ".xr-preview {\n",
       "  color: var(--xr-font-color3);\n",
       "}\n",
       "\n",
       ".xr-array-preview,\n",
       ".xr-array-data {\n",
       "  padding: 0 5px !important;\n",
       "  grid-column: 2;\n",
       "}\n",
       "\n",
       ".xr-array-data,\n",
       ".xr-array-in:checked ~ .xr-array-preview {\n",
       "  display: none;\n",
       "}\n",
       "\n",
       ".xr-array-in:checked ~ .xr-array-data,\n",
       ".xr-array-preview {\n",
       "  display: inline-block;\n",
       "}\n",
       "\n",
       ".xr-dim-list {\n",
       "  display: inline-block !important;\n",
       "  list-style: none;\n",
       "  padding: 0 !important;\n",
       "  margin: 0;\n",
       "}\n",
       "\n",
       ".xr-dim-list li {\n",
       "  display: inline-block;\n",
       "  padding: 0;\n",
       "  margin: 0;\n",
       "}\n",
       "\n",
       ".xr-dim-list:before {\n",
       "  content: '(';\n",
       "}\n",
       "\n",
       ".xr-dim-list:after {\n",
       "  content: ')';\n",
       "}\n",
       "\n",
       ".xr-dim-list li:not(:last-child):after {\n",
       "  content: ',';\n",
       "  padding-right: 5px;\n",
       "}\n",
       "\n",
       ".xr-has-index {\n",
       "  font-weight: bold;\n",
       "}\n",
       "\n",
       ".xr-var-list,\n",
       ".xr-var-item {\n",
       "  display: contents;\n",
       "}\n",
       "\n",
       ".xr-var-item > div,\n",
       ".xr-var-item label,\n",
       ".xr-var-item > .xr-var-name span {\n",
       "  background-color: var(--xr-background-color-row-even);\n",
       "  margin-bottom: 0;\n",
       "}\n",
       "\n",
       ".xr-var-item > .xr-var-name:hover span {\n",
       "  padding-right: 5px;\n",
       "}\n",
       "\n",
       ".xr-var-list > li:nth-child(odd) > div,\n",
       ".xr-var-list > li:nth-child(odd) > label,\n",
       ".xr-var-list > li:nth-child(odd) > .xr-var-name span {\n",
       "  background-color: var(--xr-background-color-row-odd);\n",
       "}\n",
       "\n",
       ".xr-var-name {\n",
       "  grid-column: 1;\n",
       "}\n",
       "\n",
       ".xr-var-dims {\n",
       "  grid-column: 2;\n",
       "}\n",
       "\n",
       ".xr-var-dtype {\n",
       "  grid-column: 3;\n",
       "  text-align: right;\n",
       "  color: var(--xr-font-color2);\n",
       "}\n",
       "\n",
       ".xr-var-preview {\n",
       "  grid-column: 4;\n",
       "}\n",
       "\n",
       ".xr-var-name,\n",
       ".xr-var-dims,\n",
       ".xr-var-dtype,\n",
       ".xr-preview,\n",
       ".xr-attrs dt {\n",
       "  white-space: nowrap;\n",
       "  overflow: hidden;\n",
       "  text-overflow: ellipsis;\n",
       "  padding-right: 10px;\n",
       "}\n",
       "\n",
       ".xr-var-name:hover,\n",
       ".xr-var-dims:hover,\n",
       ".xr-var-dtype:hover,\n",
       ".xr-attrs dt:hover {\n",
       "  overflow: visible;\n",
       "  width: auto;\n",
       "  z-index: 1;\n",
       "}\n",
       "\n",
       ".xr-var-attrs,\n",
       ".xr-var-data {\n",
       "  display: none;\n",
       "  background-color: var(--xr-background-color) !important;\n",
       "  padding-bottom: 5px !important;\n",
       "}\n",
       "\n",
       ".xr-var-attrs-in:checked ~ .xr-var-attrs,\n",
       ".xr-var-data-in:checked ~ .xr-var-data {\n",
       "  display: block;\n",
       "}\n",
       "\n",
       ".xr-var-data > table {\n",
       "  float: right;\n",
       "}\n",
       "\n",
       ".xr-var-name span,\n",
       ".xr-var-data,\n",
       ".xr-attrs {\n",
       "  padding-left: 25px !important;\n",
       "}\n",
       "\n",
       ".xr-attrs,\n",
       ".xr-var-attrs,\n",
       ".xr-var-data {\n",
       "  grid-column: 1 / -1;\n",
       "}\n",
       "\n",
       "dl.xr-attrs {\n",
       "  padding: 0;\n",
       "  margin: 0;\n",
       "  display: grid;\n",
       "  grid-template-columns: 125px auto;\n",
       "}\n",
       "\n",
       ".xr-attrs dt,\n",
       ".xr-attrs dd {\n",
       "  padding: 0;\n",
       "  margin: 0;\n",
       "  float: left;\n",
       "  padding-right: 10px;\n",
       "  width: auto;\n",
       "}\n",
       "\n",
       ".xr-attrs dt {\n",
       "  font-weight: normal;\n",
       "  grid-column: 1;\n",
       "}\n",
       "\n",
       ".xr-attrs dt:hover span {\n",
       "  display: inline-block;\n",
       "  background: var(--xr-background-color);\n",
       "  padding-right: 10px;\n",
       "}\n",
       "\n",
       ".xr-attrs dd {\n",
       "  grid-column: 2;\n",
       "  white-space: pre-wrap;\n",
       "  word-break: break-all;\n",
       "}\n",
       "\n",
       ".xr-icon-database,\n",
       ".xr-icon-file-text2 {\n",
       "  display: inline-block;\n",
       "  vertical-align: middle;\n",
       "  width: 1em;\n",
       "  height: 1.5em !important;\n",
       "  stroke-width: 0;\n",
       "  stroke: currentColor;\n",
       "  fill: currentColor;\n",
       "}\n",
       "</style><pre class='xr-text-repr-fallback'>&lt;xarray.Dataset&gt;\n",
       "Dimensions:    (component: 62, day: 62)\n",
       "Coordinates:\n",
       "  * component  (component) int64 0 1 2 3 4 5 6 7 8 ... 54 55 56 57 58 59 60 61\n",
       "  * day        (day) datetime64[ns] 2015-08-17 2015-08-18 ... 2015-10-17\n",
       "Data variables:\n",
       "    H_PCA      (component, day) float64 -196.7 66.75 ... -2.869e-13 2.994e-13</pre><div class='xr-wrap' style='display:none'><div class='xr-header'><div class='xr-obj-type'>xarray.Dataset</div></div><ul class='xr-sections'><li class='xr-section-item'><input id='section-cdfce875-29c9-4f9e-b528-f3cc2213170c' class='xr-section-summary-in' type='checkbox' disabled ><label for='section-cdfce875-29c9-4f9e-b528-f3cc2213170c' class='xr-section-summary'  title='Expand/collapse section'>Dimensions:</label><div class='xr-section-inline-details'><ul class='xr-dim-list'><li><span class='xr-has-index'>component</span>: 62</li><li><span class='xr-has-index'>day</span>: 62</li></ul></div><div class='xr-section-details'></div></li><li class='xr-section-item'><input id='section-85205938-3b5b-4f2d-8886-b4609cbd0196' class='xr-section-summary-in' type='checkbox'  checked><label for='section-85205938-3b5b-4f2d-8886-b4609cbd0196' class='xr-section-summary' >Coordinates: <span>(2)</span></label><div class='xr-section-inline-details'></div><div class='xr-section-details'><ul class='xr-var-list'><li class='xr-var-item'><div class='xr-var-name'><span class='xr-has-index'>component</span></div><div class='xr-var-dims'>(component)</div><div class='xr-var-dtype'>int64</div><div class='xr-var-preview xr-preview'>0 1 2 3 4 5 6 ... 56 57 58 59 60 61</div><input id='attrs-a0437565-fa70-47c0-b9a7-9ec3c3f84a36' class='xr-var-attrs-in' type='checkbox' disabled><label for='attrs-a0437565-fa70-47c0-b9a7-9ec3c3f84a36' title='Show/Hide attributes'><svg class='icon xr-icon-file-text2'><use xlink:href='#icon-file-text2'></use></svg></label><input id='data-0d0edcb9-db43-47d7-b40e-45c6f7d1ecb8' class='xr-var-data-in' type='checkbox'><label for='data-0d0edcb9-db43-47d7-b40e-45c6f7d1ecb8' title='Show/Hide data repr'><svg class='icon xr-icon-database'><use xlink:href='#icon-database'></use></svg></label><div class='xr-var-attrs'><dl class='xr-attrs'></dl></div><div class='xr-var-data'><pre>array([ 0,  1,  2,  3,  4,  5,  6,  7,  8,  9, 10, 11, 12, 13, 14, 15, 16, 17,\n",
       "       18, 19, 20, 21, 22, 23, 24, 25, 26, 27, 28, 29, 30, 31, 32, 33, 34, 35,\n",
       "       36, 37, 38, 39, 40, 41, 42, 43, 44, 45, 46, 47, 48, 49, 50, 51, 52, 53,\n",
       "       54, 55, 56, 57, 58, 59, 60, 61])</pre></div></li><li class='xr-var-item'><div class='xr-var-name'><span class='xr-has-index'>day</span></div><div class='xr-var-dims'>(day)</div><div class='xr-var-dtype'>datetime64[ns]</div><div class='xr-var-preview xr-preview'>2015-08-17 ... 2015-10-17</div><input id='attrs-8c1691c5-01df-4e8b-8523-cbc77c221813' class='xr-var-attrs-in' type='checkbox' disabled><label for='attrs-8c1691c5-01df-4e8b-8523-cbc77c221813' title='Show/Hide attributes'><svg class='icon xr-icon-file-text2'><use xlink:href='#icon-file-text2'></use></svg></label><input id='data-b296e9db-c032-44d3-bae5-46513298e754' class='xr-var-data-in' type='checkbox'><label for='data-b296e9db-c032-44d3-bae5-46513298e754' title='Show/Hide data repr'><svg class='icon xr-icon-database'><use xlink:href='#icon-database'></use></svg></label><div class='xr-var-attrs'><dl class='xr-attrs'></dl></div><div class='xr-var-data'><pre>array([&#x27;2015-08-17T00:00:00.000000000&#x27;, &#x27;2015-08-18T00:00:00.000000000&#x27;,\n",
       "       &#x27;2015-08-19T00:00:00.000000000&#x27;, &#x27;2015-08-20T00:00:00.000000000&#x27;,\n",
       "       &#x27;2015-08-21T00:00:00.000000000&#x27;, &#x27;2015-08-22T00:00:00.000000000&#x27;,\n",
       "       &#x27;2015-08-23T00:00:00.000000000&#x27;, &#x27;2015-08-24T00:00:00.000000000&#x27;,\n",
       "       &#x27;2015-08-25T00:00:00.000000000&#x27;, &#x27;2015-08-26T00:00:00.000000000&#x27;,\n",
       "       &#x27;2015-08-27T00:00:00.000000000&#x27;, &#x27;2015-08-28T00:00:00.000000000&#x27;,\n",
       "       &#x27;2015-08-29T00:00:00.000000000&#x27;, &#x27;2015-08-30T00:00:00.000000000&#x27;,\n",
       "       &#x27;2015-08-31T00:00:00.000000000&#x27;, &#x27;2015-09-01T00:00:00.000000000&#x27;,\n",
       "       &#x27;2015-09-02T00:00:00.000000000&#x27;, &#x27;2015-09-03T00:00:00.000000000&#x27;,\n",
       "       &#x27;2015-09-04T00:00:00.000000000&#x27;, &#x27;2015-09-05T00:00:00.000000000&#x27;,\n",
       "       &#x27;2015-09-06T00:00:00.000000000&#x27;, &#x27;2015-09-07T00:00:00.000000000&#x27;,\n",
       "       &#x27;2015-09-08T00:00:00.000000000&#x27;, &#x27;2015-09-09T00:00:00.000000000&#x27;,\n",
       "       &#x27;2015-09-10T00:00:00.000000000&#x27;, &#x27;2015-09-11T00:00:00.000000000&#x27;,\n",
       "       &#x27;2015-09-12T00:00:00.000000000&#x27;, &#x27;2015-09-13T00:00:00.000000000&#x27;,\n",
       "       &#x27;2015-09-14T00:00:00.000000000&#x27;, &#x27;2015-09-15T00:00:00.000000000&#x27;,\n",
       "       &#x27;2015-09-16T00:00:00.000000000&#x27;, &#x27;2015-09-17T00:00:00.000000000&#x27;,\n",
       "       &#x27;2015-09-18T00:00:00.000000000&#x27;, &#x27;2015-09-19T00:00:00.000000000&#x27;,\n",
       "       &#x27;2015-09-20T00:00:00.000000000&#x27;, &#x27;2015-09-21T00:00:00.000000000&#x27;,\n",
       "       &#x27;2015-09-22T00:00:00.000000000&#x27;, &#x27;2015-09-23T00:00:00.000000000&#x27;,\n",
       "       &#x27;2015-09-24T00:00:00.000000000&#x27;, &#x27;2015-09-25T00:00:00.000000000&#x27;,\n",
       "       &#x27;2015-09-26T00:00:00.000000000&#x27;, &#x27;2015-09-27T00:00:00.000000000&#x27;,\n",
       "       &#x27;2015-09-28T00:00:00.000000000&#x27;, &#x27;2015-09-29T00:00:00.000000000&#x27;,\n",
       "       &#x27;2015-09-30T00:00:00.000000000&#x27;, &#x27;2015-10-01T00:00:00.000000000&#x27;,\n",
       "       &#x27;2015-10-02T00:00:00.000000000&#x27;, &#x27;2015-10-03T00:00:00.000000000&#x27;,\n",
       "       &#x27;2015-10-04T00:00:00.000000000&#x27;, &#x27;2015-10-05T00:00:00.000000000&#x27;,\n",
       "       &#x27;2015-10-06T00:00:00.000000000&#x27;, &#x27;2015-10-07T00:00:00.000000000&#x27;,\n",
       "       &#x27;2015-10-08T00:00:00.000000000&#x27;, &#x27;2015-10-09T00:00:00.000000000&#x27;,\n",
       "       &#x27;2015-10-10T00:00:00.000000000&#x27;, &#x27;2015-10-11T00:00:00.000000000&#x27;,\n",
       "       &#x27;2015-10-12T00:00:00.000000000&#x27;, &#x27;2015-10-13T00:00:00.000000000&#x27;,\n",
       "       &#x27;2015-10-14T00:00:00.000000000&#x27;, &#x27;2015-10-15T00:00:00.000000000&#x27;,\n",
       "       &#x27;2015-10-16T00:00:00.000000000&#x27;, &#x27;2015-10-17T00:00:00.000000000&#x27;],\n",
       "      dtype=&#x27;datetime64[ns]&#x27;)</pre></div></li></ul></div></li><li class='xr-section-item'><input id='section-fce07712-d43d-4eed-876f-78d6064a036b' class='xr-section-summary-in' type='checkbox'  checked><label for='section-fce07712-d43d-4eed-876f-78d6064a036b' class='xr-section-summary' >Data variables: <span>(1)</span></label><div class='xr-section-inline-details'></div><div class='xr-section-details'><ul class='xr-var-list'><li class='xr-var-item'><div class='xr-var-name'><span>H_PCA</span></div><div class='xr-var-dims'>(component, day)</div><div class='xr-var-dtype'>float64</div><div class='xr-var-preview xr-preview'>-196.7 66.75 ... 2.994e-13</div><input id='attrs-034b763c-0cfb-4425-8446-6df9510496f1' class='xr-var-attrs-in' type='checkbox' disabled><label for='attrs-034b763c-0cfb-4425-8446-6df9510496f1' title='Show/Hide attributes'><svg class='icon xr-icon-file-text2'><use xlink:href='#icon-file-text2'></use></svg></label><input id='data-0df10c5b-48df-4a7b-b0a2-cc84623e3f89' class='xr-var-data-in' type='checkbox'><label for='data-0df10c5b-48df-4a7b-b0a2-cc84623e3f89' title='Show/Hide data repr'><svg class='icon xr-icon-database'><use xlink:href='#icon-database'></use></svg></label><div class='xr-var-attrs'><dl class='xr-attrs'></dl></div><div class='xr-var-data'><pre>array([[-1.96697757e+02,  6.67506962e+01,  2.74798084e+02, ...,\n",
       "        -1.28000894e+02, -2.48240795e+02,  1.94897101e+02],\n",
       "       [ 8.99008915e+01,  3.10455199e+02,  3.70693635e+02, ...,\n",
       "        -1.69971379e+02, -2.94733189e+02, -1.09747276e+02],\n",
       "       [ 4.19605639e+01,  1.92430310e+02,  7.37738019e+01, ...,\n",
       "        -2.70357463e+02, -2.19284529e+02, -1.30063908e+02],\n",
       "       ...,\n",
       "       [-2.52498141e-14, -1.55929428e-13,  7.45556093e-14, ...,\n",
       "        -1.33539287e-13,  9.55503905e-13, -6.30738246e-13],\n",
       "       [ 2.74730568e-14,  4.33761323e-14, -2.71338372e-13, ...,\n",
       "        -2.92790906e-13, -1.77213686e-13,  1.11403410e-12],\n",
       "       [-9.37624502e-15,  1.57156541e-13,  2.60447518e-13, ...,\n",
       "        -1.32422521e-13, -2.86927405e-13,  2.99434489e-13]])</pre></div></li></ul></div></li><li class='xr-section-item'><input id='section-d228ce14-5b18-49cd-9241-98b23806e710' class='xr-section-summary-in' type='checkbox' disabled ><label for='section-d228ce14-5b18-49cd-9241-98b23806e710' class='xr-section-summary'  title='Expand/collapse section'>Attributes: <span>(0)</span></label><div class='xr-section-inline-details'></div><div class='xr-section-details'><dl class='xr-attrs'></dl></div></li></ul></div></div>"
      ],
      "text/plain": [
       "<xarray.Dataset>\n",
       "Dimensions:    (component: 62, day: 62)\n",
       "Coordinates:\n",
       "  * component  (component) int64 0 1 2 3 4 5 6 7 8 ... 54 55 56 57 58 59 60 61\n",
       "  * day        (day) datetime64[ns] 2015-08-17 2015-08-18 ... 2015-10-17\n",
       "Data variables:\n",
       "    H_PCA      (component, day) float64 -196.7 66.75 ... -2.869e-13 2.994e-13"
      ]
     },
     "execution_count": 50,
     "metadata": {},
     "output_type": "execute_result"
    }
   ],
   "source": [
    "# Assemble dataset for activation\n",
    "ds_activation = xr.Dataset(\n",
    "    {\n",
    "        'H_PCA': (['component', 'day'], np.array(H_PCA).T)\n",
    "    },\n",
    "    coords={\n",
    "        'component': np.arange(62),\n",
    "        'day': MVBS_rpca['low_rank'].date.values\n",
    "    }\n",
    ")\n",
    "\n",
    "ds_activation"
   ]
  },
  {
   "cell_type": "markdown",
   "metadata": {},
   "source": [
    "### Try on hz38"
   ]
  },
  {
   "cell_type": "code",
   "execution_count": 62,
   "metadata": {},
   "outputs": [
    {
     "data": {
      "text/plain": [
       "(3, 37, 144)"
      ]
     },
     "execution_count": 62,
     "metadata": {},
     "output_type": "execute_result"
    }
   ],
   "source": [
    "hz38_components_PCA = np.array([hz38_W_PCA[x,:].reshape(n_depth_levels,n_pings) \n",
    "                          for x in range(3)])\n",
    "hz38_components_PCA.shape"
   ]
  },
  {
   "cell_type": "markdown",
   "metadata": {},
   "source": [
    "I'm not doing the activation steps here because we aren't including activation in our visualization"
   ]
  },
  {
   "cell_type": "markdown",
   "metadata": {},
   "source": [
    "### Original functions"
   ]
  },
  {
   "cell_type": "markdown",
   "metadata": {},
   "source": [
    "Define some functions for plotting"
   ]
  },
  {
   "cell_type": "code",
   "execution_count": 63,
   "metadata": {},
   "outputs": [],
   "source": [
    "def set_ax_ticks(ax):\n",
    "    \"\"\"Plot the tick marks for component panels\n",
    "    \"\"\"\n",
    "    ax.set_xticks([])\n",
    "    ax.set_yticks(np.arange(0,n_depth_levels*3+1,n_depth_levels))\n",
    "    ax.set_yticklabels('')\n",
    "    ax.grid(alpha=0.5)"
   ]
  },
  {
   "cell_type": "code",
   "execution_count": 64,
   "metadata": {},
   "outputs": [],
   "source": [
    "def plot_daily_echogram_colorbar(ax1, ax2):\n",
    "    pos_ax_left = ax1.get_position()\n",
    "    pos_ax_right = ax2.get_position()\n",
    "    cax = fig.add_axes([pos_ax_right.x0+pos_ax_right.width+0.012, \n",
    "                            pos_ax_left.y0, \n",
    "                            0.008, \n",
    "                            pos_ax_right.height])\n",
    "    cbar = plt.colorbar(im, cax=cax)\n",
    "#     cbar.set_ticks(np.arange(0,0.035,0.01))\n",
    "    cbar.ax.tick_params(labelsize=tick_ls, pad=pad_size)\n",
    "    return cbar"
   ]
  },
  {
   "cell_type": "markdown",
   "metadata": {},
   "source": [
    "Change default color cycle for plotting activation sequences:"
   ]
  },
  {
   "cell_type": "code",
   "execution_count": 65,
   "metadata": {},
   "outputs": [],
   "source": [
    "# Set custom color cycle\n",
    "from cycler import cycler\n",
    "# mpl.rcParams['axes.prop_cycle'] = cycler(color='bgrcmyk')  # default mpl color cycle\n",
    "# plt.rcParams['axes.prop_cycle'] = cycler(color='cmbgryk')\n",
    "# cmap = plt.cm.get_cmap('YlGnBu')\n",
    "cmap = plt.cm.get_cmap('gray_r')\n",
    "plt.rcParams['axes.prop_cycle'] = cycler(color=cmap([0.3,0.6,1.0]))"
   ]
  },
  {
   "cell_type": "code",
   "execution_count": 66,
   "metadata": {},
   "outputs": [],
   "source": [
    "panel_ls=12\n",
    "title_ls=10\n",
    "freq_ls=8\n",
    "comp_ls=8\n",
    "axis_ls=8\n",
    "legend_ls=6\n",
    "tick_ls=8\n",
    "pad_size=1"
   ]
  },
  {
   "cell_type": "code",
   "execution_count": 55,
   "metadata": {},
   "outputs": [
    {
     "data": {
      "image/png": "[encoded data removed]",
      "text/plain": [
       "<Figure size 648x100.8 with 7 Axes>"
      ]
     },
     "metadata": {
      "needs_background": "light"
     },
     "output_type": "display_data"
    }
   ],
   "source": [
    "fig = plt.figure(figsize=(9,1.4))\n",
    "gs_L = fig.add_gridspec(1,1, bottom=0.2, top=1.0, left=0.04, right=0.23, hspace=0.15)\n",
    "gs_M = fig.add_gridspec(1,3, bottom=0.2, top=1.0, left=0.31,  right=0.51, hspace=0.15)\n",
    "gs_R = fig.add_gridspec(1,1, bottom=0.2, top=1.0, left=0.65, right=0.95, hspace=0.15)\n",
    "\n",
    "\n",
    "# PANEL: EIGENVALUES ============================================\n",
    "ax_eigenvalue = fig.add_subplot(gs_L[0,0])\n",
    "ax_eigenvalue.plot(np.arange(1,63), model_PCA.explained_variance_ratio_,'k.')\n",
    "ax_eigenvalue.set_title('Explained variance', fontsize=title_ls)\n",
    "ax_eigenvalue.set_xlim(0,16)\n",
    "ax_eigenvalue.set_xlabel('Component number', fontsize=title_ls)\n",
    "ax_eigenvalue.set_ylabel('% Variance\\nexplained', fontsize=title_ls)\n",
    "ax_eigenvalue.grid()\n",
    "\n",
    "\n",
    "# PANEL: DAILY ECHOGRAM PATTERNS ================================\n",
    "# vmin, vmax = (components_PCA.min(), components_PCA.max()*0.95)\n",
    "vmax = np.abs([components_PCA.min(), components_PCA.max()]).max()*0.85\n",
    "ax_echogram = []\n",
    "for seq in range(3):  # loop through 3 components\n",
    "    ax_echogram.append(fig.add_subplot(gs_M[0,seq]))\n",
    "    im = ax_echogram[-1].imshow(components_PCA[seq,:,:], aspect='auto', \n",
    "                            vmin=-vmax, vmax=vmax, cmap='coolwarm')\n",
    "    set_ax_ticks(ax_echogram[-1])\n",
    "plot_daily_echogram_colorbar(ax_echogram[0], ax_echogram[2])\n",
    "\n",
    "# Add frequency for echogram patterns\n",
    "[\n",
    "    fig.text(\n",
    "        x=-0.3, y=yy, s=ss, transform=ax_echogram[0].transAxes,\n",
    "        fontsize=freq_ls,\n",
    "        ha='center', va='center')\n",
    "    for ss,yy in zip(['200', '120', '38'], [0.15, 0.5, 0.825])\n",
    "]\n",
    "\n",
    "# Add echogram pattern labels\n",
    "[ax_echogram[x-1].set_title('#%d' % x, fontsize=title_ls, pad=5) for x in np.arange(1,4,1)]\n",
    "\n",
    "\n",
    "# PANEL: ACTIVATION COEFFICIENTS ================================\n",
    "axa = fig.add_subplot(gs_R[0,0])\n",
    "h1 = ds_activation.H_PCA.isel(component=slice(0,3)).\\\n",
    "        plot.line(x='day', ax=axa,\n",
    "                  add_legend=False, _labels=False)\n",
    "axa.xaxis.set_major_locator(\n",
    "    mdates.MonthLocator(bymonth=range(8,11), bymonthday=[1,15]))\n",
    "axa.xaxis.set_major_formatter(mdates.DateFormatter('%b-%d'))\n",
    "axa.xaxis.set_minor_locator(mdates.AutoDateLocator())\n",
    "axa.set_xlim([datetime.date(2015,8,16), datetime.date(2015,10,18)])\n",
    "axa.set_title('')\n",
    "# axa.set_xticklabels('')\n",
    "axa.tick_params(labelsize=tick_ls, pad=pad_size)\n",
    "\n",
    "# Add component legend\n",
    "axa.legend(['#1', '#2', '#3'], \n",
    "              fontsize=tick_ls,\n",
    "              bbox_to_anchor=(0.08, -0.65), \n",
    "              loc='lower left', ncol=3)\n",
    "\n",
    "\n",
    "# Add panel labels\n",
    "fig.text(x=-0.2,y=1.1,s='A',\n",
    "         transform=ax_eigenvalue.transAxes,\n",
    "         fontsize=panel_ls, fontweight='bold')\n",
    "fig.text(x=-0.5,y=1.1,s='B',\n",
    "         transform=ax_echogram[0].transAxes,\n",
    "         fontsize=panel_ls, fontweight='bold')\n",
    "fig.text(x=-0.1,y=1.1,s='C',\n",
    "         transform=axa.transAxes,\n",
    "         fontsize=panel_ls, fontweight='bold')\n",
    "\n",
    "fig.text(x=-0.7, y=0.5, s='Frequency (kHz)', \n",
    "         transform=ax_echogram[0].transAxes,\n",
    "         fontsize=title_ls, \n",
    "         rotation=90, ha='center', va='center')\n",
    "fig.text(x=0.5,y=1.25,s='Echogram patterns',\n",
    "         transform=ax_echogram[1].transAxes,\n",
    "         fontsize=title_ls, ha='center')\n",
    "fig.text(x=0.5,y=1.1,s='Activation',\n",
    "         transform=axa.transAxes,\n",
    "         fontsize=title_ls, ha='center')\n",
    "fig.text(x=-0.17, y=0.5, s='Relative Strength', \n",
    "         transform=axa.transAxes,\n",
    "         fontsize=title_ls, \n",
    "         rotation=90, ha='center', va='center')\n",
    "\n",
    "\n",
    "# Add example axis for daily echogram patterns\n",
    "gs_ex = fig.add_gridspec(1,1, bottom=-0.13, top=0.12, left=0.28+0.1, right=0.34+0.1)\n",
    "ax_ex = fig.add_subplot(gs_ex[0,0])\n",
    "ax_ex.set_xticks([])\n",
    "ax_ex.set_yticks([])\n",
    "ax_ex.set_facecolor(np.ones(3)*0.6)\n",
    "\n",
    "trans = ax_ex.get_xaxis_transform()\n",
    "ax_ex.plot([0,1],[-0.2,-0.2],  # add a line for horizontal scale\n",
    "            color='k', lw=2.5, \n",
    "            transform=trans, clip_on=False)\n",
    "ax_ex.annotate('24 hr',             # annotate\n",
    "                xy=(0.2,-0.7), xycoords=trans, \n",
    "                ha='left', va='bottom', \n",
    "                fontsize=axis_ls)\n",
    "trans = ax_ex.get_yaxis_transform()\n",
    "ax_ex.plot([1.15,1.15],[0.2,1],  # add a line for vertical scale\n",
    "            color='k', lw=2.5, \n",
    "            transform=trans, clip_on=False)\n",
    "ax_ex.annotate('200 m',            # annotate\n",
    "                xy=(1.6,0.6), xycoords=trans, \n",
    "                ha='center', va='top', rotation=0,\n",
    "                fontsize=axis_ls)\n",
    "fig.text(x=-0.55, y=0.5, s='Scale:', \n",
    "         transform=ax_ex.transAxes,\n",
    "         fontsize=title_ls, \n",
    "         rotation=0, ha='center', va='center')\n",
    "\n",
    "plt.show()\n",
    "\n",
    "fig.savefig(os.path.join('../figs/fig_si_pca.png'),\n",
    "            dpi=300, bbox_inches = 'tight', pad_inches = 0.05)"
   ]
  },
  {
   "cell_type": "markdown",
   "metadata": {},
   "source": [
    "### messily trying to make echogram and explained variance of just hz38"
   ]
  },
  {
   "cell_type": "code",
   "execution_count": 70,
   "metadata": {},
   "outputs": [
    {
     "data": {
      "text/plain": [
       "[Text(0.5, 1.0, '#1'), Text(0.5, 1.0, '#2'), Text(0.5, 1.0, '#3')]"
      ]
     },
     "execution_count": 70,
     "metadata": {},
     "output_type": "execute_result"
    },
    {
     "data": {
      "image/png": "[encoded data removed]",
      "text/plain": [
       "<Figure size 648x100.8 with 5 Axes>"
      ]
     },
     "metadata": {
      "needs_background": "light"
     },
     "output_type": "display_data"
    }
   ],
   "source": [
    "fig = plt.figure(figsize=(9,1.4))\n",
    "gs_L = fig.add_gridspec(1,1, bottom=0.2, top=1.0, left=0.04, right=0.23, hspace=0.15)\n",
    "gs_M = fig.add_gridspec(1,3, bottom=0.2, top=1.0, left=0.31,  right=0.51, hspace=0.15)\n",
    "gs_R = fig.add_gridspec(1,1, bottom=0.2, top=1.0, left=0.65, right=0.95, hspace=0.15)\n",
    "\n",
    "# PANEL: EIGENVALUES ============================================\n",
    "ax_eigenvalue = fig.add_subplot(gs_L[0,0])\n",
    "ax_eigenvalue.plot(np.arange(1,63), hz38_model_PCA.explained_variance_ratio_,'k.')\n",
    "ax_eigenvalue.set_title('Explained variance', fontsize=title_ls)\n",
    "ax_eigenvalue.set_xlim(0,16)\n",
    "ax_eigenvalue.set_xlabel('Component number', fontsize=title_ls)\n",
    "ax_eigenvalue.set_ylabel('% Variance\\nexplained', fontsize=title_ls)\n",
    "ax_eigenvalue.grid()\n",
    "\n",
    "# PANEL: DAILY ECHOGRAM PATTERNS ================================\n",
    "# vmin, vmax = (components_PCA.min(), components_PCA.max()*0.95)\n",
    "vmax = np.abs([hz38_components_PCA.min(), hz38_components_PCA.max()]).max()*0.85\n",
    "ax_echogram = []\n",
    "for seq in range(3):  # loop through 3 components\n",
    "    ax_echogram.append(fig.add_subplot(gs_M[0,seq]))\n",
    "    im = ax_echogram[-1].imshow(hz38_components_PCA[seq,:,:], aspect='auto', \n",
    "                            vmin=-vmax, vmax=vmax, cmap='coolwarm')\n",
    "    set_ax_ticks(ax_echogram[-1])\n",
    "plot_daily_echogram_colorbar(ax_echogram[0], ax_echogram[2])\n",
    "\n",
    "# Add echogram pattern labels\n",
    "[ax_echogram[x-1].set_title('#%d' % x, fontsize=title_ls, pad=5) for x in np.arange(1,4,1)]\n"
   ]
  },
  {
   "cell_type": "markdown",
   "metadata": {},
   "source": [
    "# Export Variance Data"
   ]
  },
  {
   "cell_type": "markdown",
   "metadata": {},
   "source": [
    "### 38hz"
   ]
  },
  {
   "cell_type": "code",
   "execution_count": 83,
   "metadata": {},
   "outputs": [
    {
     "data": {
      "text/plain": [
       "array([5.09196763e-01, 3.32627614e-01, 6.76963130e-02, 2.75588928e-02,\n",
       "       1.90911538e-02, 1.39873502e-02, 1.05086935e-02, 5.68591047e-03,\n",
       "       3.34531520e-03, 2.91456259e-03, 1.63018399e-03, 1.10876147e-03,\n",
       "       9.14035728e-04, 6.98784164e-04, 5.98554320e-04, 4.92922928e-04,\n",
       "       4.88399951e-04, 4.10805877e-04, 2.45396345e-04, 2.00007987e-04,\n",
       "       1.56663011e-04, 1.23697926e-04, 9.75974982e-05, 6.92890494e-05,\n",
       "       4.56862663e-05, 3.29637514e-05, 2.88334443e-05, 1.97641235e-05,\n",
       "       1.69237698e-05, 5.04811400e-06, 2.95910032e-06, 1.51733048e-07,\n",
       "       1.90006382e-30, 1.00237140e-30, 6.75678838e-31, 6.46661730e-31,\n",
       "       6.10485263e-31, 5.81625395e-31, 5.67463320e-31, 5.36480528e-31,\n",
       "       5.25505567e-31, 5.22654635e-31, 5.16351816e-31, 5.16172655e-31,\n",
       "       5.16018623e-31, 5.15410008e-31, 5.13904253e-31, 5.12111767e-31,\n",
       "       5.10028311e-31, 5.08288412e-31, 5.08169722e-31, 5.07799072e-31,\n",
       "       5.05923048e-31, 5.04714320e-31, 5.03434062e-31, 4.98313513e-31,\n",
       "       4.88396131e-31, 4.74512032e-31, 4.62111192e-31, 4.45031826e-31,\n",
       "       3.81697252e-31, 3.57971671e-31])"
      ]
     },
     "execution_count": 83,
     "metadata": {},
     "output_type": "execute_result"
    }
   ],
   "source": [
    "hz38_model_PCA.explained_variance_ratio_"
   ]
  },
  {
   "cell_type": "code",
   "execution_count": 84,
   "metadata": {},
   "outputs": [],
   "source": [
    "hz38_variance_data_df = pd.DataFrame(hz38_model_PCA.explained_variance_ratio_,\n",
    "                                    index=np.arange(1,63),\n",
    "                                    columns=['variance'])"
   ]
  },
  {
   "cell_type": "code",
   "execution_count": 85,
   "metadata": {},
   "outputs": [
    {
     "data": {
      "text/html": [
       "<div>\n",
       "<style scoped>\n",
       "    .dataframe tbody tr th:only-of-type {\n",
       "        vertical-align: middle;\n",
       "    }\n",
       "\n",
       "    .dataframe tbody tr th {\n",
       "        vertical-align: top;\n",
       "    }\n",
       "\n",
       "    .dataframe thead th {\n",
       "        text-align: right;\n",
       "    }\n",
       "</style>\n",
       "<table border=\"1\" class=\"dataframe\">\n",
       "  <thead>\n",
       "    <tr style=\"text-align: right;\">\n",
       "      <th></th>\n",
       "      <th>variance</th>\n",
       "    </tr>\n",
       "    <tr>\n",
       "      <th>num</th>\n",
       "      <th></th>\n",
       "    </tr>\n",
       "  </thead>\n",
       "  <tbody>\n",
       "    <tr>\n",
       "      <th>1</th>\n",
       "      <td>5.091968e-01</td>\n",
       "    </tr>\n",
       "    <tr>\n",
       "      <th>2</th>\n",
       "      <td>3.326276e-01</td>\n",
       "    </tr>\n",
       "    <tr>\n",
       "      <th>3</th>\n",
       "      <td>6.769631e-02</td>\n",
       "    </tr>\n",
       "    <tr>\n",
       "      <th>4</th>\n",
       "      <td>2.755889e-02</td>\n",
       "    </tr>\n",
       "    <tr>\n",
       "      <th>5</th>\n",
       "      <td>1.909115e-02</td>\n",
       "    </tr>\n",
       "    <tr>\n",
       "      <th>...</th>\n",
       "      <td>...</td>\n",
       "    </tr>\n",
       "    <tr>\n",
       "      <th>58</th>\n",
       "      <td>4.745120e-31</td>\n",
       "    </tr>\n",
       "    <tr>\n",
       "      <th>59</th>\n",
       "      <td>4.621112e-31</td>\n",
       "    </tr>\n",
       "    <tr>\n",
       "      <th>60</th>\n",
       "      <td>4.450318e-31</td>\n",
       "    </tr>\n",
       "    <tr>\n",
       "      <th>61</th>\n",
       "      <td>3.816973e-31</td>\n",
       "    </tr>\n",
       "    <tr>\n",
       "      <th>62</th>\n",
       "      <td>3.579717e-31</td>\n",
       "    </tr>\n",
       "  </tbody>\n",
       "</table>\n",
       "<p>62 rows × 1 columns</p>\n",
       "</div>"
      ],
      "text/plain": [
       "         variance\n",
       "num              \n",
       "1    5.091968e-01\n",
       "2    3.326276e-01\n",
       "3    6.769631e-02\n",
       "4    2.755889e-02\n",
       "5    1.909115e-02\n",
       "..            ...\n",
       "58   4.745120e-31\n",
       "59   4.621112e-31\n",
       "60   4.450318e-31\n",
       "61   3.816973e-31\n",
       "62   3.579717e-31\n",
       "\n",
       "[62 rows x 1 columns]"
      ]
     },
     "execution_count": 85,
     "metadata": {},
     "output_type": "execute_result"
    }
   ],
   "source": [
    "hz38_variance_data_df.index.name = 'num'\n",
    "hz38_variance_data_df"
   ]
  },
  {
   "cell_type": "code",
   "execution_count": 86,
   "metadata": {},
   "outputs": [],
   "source": [
    "hz38_variance_data_df.to_csv('hz38_explained_variance_data.csv')"
   ]
  },
  {
   "cell_type": "markdown",
   "metadata": {},
   "source": [
    "### 180 hz"
   ]
  },
  {
   "cell_type": "code",
   "execution_count": 87,
   "metadata": {},
   "outputs": [
    {
     "data": {
      "text/plain": [
       "array([4.65922935e-01, 2.99676609e-01, 8.47043541e-02, 5.30213551e-02,\n",
       "       2.77426453e-02, 2.01937996e-02, 1.52201936e-02, 1.09152118e-02,\n",
       "       5.24384012e-03, 4.03771195e-03, 2.75209640e-03, 1.98495634e-03,\n",
       "       1.68527592e-03, 1.31904779e-03, 1.25205750e-03, 9.32968643e-04,\n",
       "       8.29089344e-04, 6.66685888e-04, 4.41477044e-04, 3.26623990e-04,\n",
       "       2.91202865e-04, 2.36839093e-04, 1.91920379e-04, 1.20537552e-04,\n",
       "       8.70319983e-05, 6.64749707e-05, 5.12153663e-05, 3.83242782e-05,\n",
       "       3.12854021e-05, 9.99535415e-06, 5.93860095e-06, 2.99644855e-07,\n",
       "       1.44141792e-30, 1.03219361e-30, 8.69900826e-31, 8.32739146e-31,\n",
       "       8.03954737e-31, 7.83750382e-31, 7.76683321e-31, 7.65602604e-31,\n",
       "       7.34820078e-31, 7.29233444e-31, 7.20900332e-31, 7.14347758e-31,\n",
       "       7.13961920e-31, 7.11974035e-31, 6.91935771e-31, 6.85993599e-31,\n",
       "       6.78423179e-31, 6.71432323e-31, 6.55951511e-31, 6.52759035e-31,\n",
       "       6.42719440e-31, 6.37714505e-31, 6.28028061e-31, 6.19838703e-31,\n",
       "       6.16316266e-31, 5.97006041e-31, 5.83612470e-31, 5.43294733e-31,\n",
       "       5.31450449e-31, 4.70336781e-31])"
      ]
     },
     "execution_count": 87,
     "metadata": {},
     "output_type": "execute_result"
    }
   ],
   "source": [
    "hz120_model_PCA.explained_variance_ratio_"
   ]
  },
  {
   "cell_type": "code",
   "execution_count": 88,
   "metadata": {},
   "outputs": [],
   "source": [
    "hz120_variance_data_df = pd.DataFrame(hz120_model_PCA.explained_variance_ratio_,\n",
    "                                    index=np.arange(1,63),\n",
    "                                    columns=['variance'])"
   ]
  },
  {
   "cell_type": "code",
   "execution_count": 89,
   "metadata": {},
   "outputs": [
    {
     "data": {
      "text/html": [
       "<div>\n",
       "<style scoped>\n",
       "    .dataframe tbody tr th:only-of-type {\n",
       "        vertical-align: middle;\n",
       "    }\n",
       "\n",
       "    .dataframe tbody tr th {\n",
       "        vertical-align: top;\n",
       "    }\n",
       "\n",
       "    .dataframe thead th {\n",
       "        text-align: right;\n",
       "    }\n",
       "</style>\n",
       "<table border=\"1\" class=\"dataframe\">\n",
       "  <thead>\n",
       "    <tr style=\"text-align: right;\">\n",
       "      <th></th>\n",
       "      <th>variance</th>\n",
       "    </tr>\n",
       "    <tr>\n",
       "      <th>num</th>\n",
       "      <th></th>\n",
       "    </tr>\n",
       "  </thead>\n",
       "  <tbody>\n",
       "    <tr>\n",
       "      <th>1</th>\n",
       "      <td>4.659229e-01</td>\n",
       "    </tr>\n",
       "    <tr>\n",
       "      <th>2</th>\n",
       "      <td>2.996766e-01</td>\n",
       "    </tr>\n",
       "    <tr>\n",
       "      <th>3</th>\n",
       "      <td>8.470435e-02</td>\n",
       "    </tr>\n",
       "    <tr>\n",
       "      <th>4</th>\n",
       "      <td>5.302136e-02</td>\n",
       "    </tr>\n",
       "    <tr>\n",
       "      <th>5</th>\n",
       "      <td>2.774265e-02</td>\n",
       "    </tr>\n",
       "    <tr>\n",
       "      <th>...</th>\n",
       "      <td>...</td>\n",
       "    </tr>\n",
       "    <tr>\n",
       "      <th>58</th>\n",
       "      <td>5.970060e-31</td>\n",
       "    </tr>\n",
       "    <tr>\n",
       "      <th>59</th>\n",
       "      <td>5.836125e-31</td>\n",
       "    </tr>\n",
       "    <tr>\n",
       "      <th>60</th>\n",
       "      <td>5.432947e-31</td>\n",
       "    </tr>\n",
       "    <tr>\n",
       "      <th>61</th>\n",
       "      <td>5.314504e-31</td>\n",
       "    </tr>\n",
       "    <tr>\n",
       "      <th>62</th>\n",
       "      <td>4.703368e-31</td>\n",
       "    </tr>\n",
       "  </tbody>\n",
       "</table>\n",
       "<p>62 rows × 1 columns</p>\n",
       "</div>"
      ],
      "text/plain": [
       "         variance\n",
       "num              \n",
       "1    4.659229e-01\n",
       "2    2.996766e-01\n",
       "3    8.470435e-02\n",
       "4    5.302136e-02\n",
       "5    2.774265e-02\n",
       "..            ...\n",
       "58   5.970060e-31\n",
       "59   5.836125e-31\n",
       "60   5.432947e-31\n",
       "61   5.314504e-31\n",
       "62   4.703368e-31\n",
       "\n",
       "[62 rows x 1 columns]"
      ]
     },
     "execution_count": 89,
     "metadata": {},
     "output_type": "execute_result"
    }
   ],
   "source": [
    "hz120_variance_data_df.index.name = 'num'\n",
    "hz120_variance_data_df"
   ]
  },
  {
   "cell_type": "code",
   "execution_count": 90,
   "metadata": {},
   "outputs": [],
   "source": [
    "hz120_variance_data_df.to_csv('hz120_explained_variance_data.csv')"
   ]
  },
  {
   "cell_type": "markdown",
   "metadata": {},
   "source": [
    "### 200 hz"
   ]
  },
  {
   "cell_type": "code",
   "execution_count": 92,
   "metadata": {},
   "outputs": [
    {
     "data": {
      "text/plain": [
       "array([5.09196763e-01, 3.32627614e-01, 6.76963130e-02, 2.75588928e-02,\n",
       "       1.90911538e-02, 1.39873502e-02, 1.05086935e-02, 5.68591047e-03,\n",
       "       3.34531520e-03, 2.91456259e-03, 1.63018399e-03, 1.10876147e-03,\n",
       "       9.14035728e-04, 6.98784164e-04, 5.98554320e-04, 4.92922928e-04,\n",
       "       4.88399951e-04, 4.10805877e-04, 2.45396345e-04, 2.00007987e-04,\n",
       "       1.56663011e-04, 1.23697926e-04, 9.75974982e-05, 6.92890494e-05,\n",
       "       4.56862663e-05, 3.29637514e-05, 2.88334443e-05, 1.97641235e-05,\n",
       "       1.69237698e-05, 5.04811400e-06, 2.95910032e-06, 1.51733048e-07,\n",
       "       1.90006382e-30, 1.00237140e-30, 6.75678838e-31, 6.46661730e-31,\n",
       "       6.10485263e-31, 5.81625395e-31, 5.67463320e-31, 5.36480528e-31,\n",
       "       5.25505567e-31, 5.22654635e-31, 5.16351816e-31, 5.16172655e-31,\n",
       "       5.16018623e-31, 5.15410008e-31, 5.13904253e-31, 5.12111767e-31,\n",
       "       5.10028311e-31, 5.08288412e-31, 5.08169722e-31, 5.07799072e-31,\n",
       "       5.05923048e-31, 5.04714320e-31, 5.03434062e-31, 4.98313513e-31,\n",
       "       4.88396131e-31, 4.74512032e-31, 4.62111192e-31, 4.45031826e-31,\n",
       "       3.81697252e-31, 3.57971671e-31])"
      ]
     },
     "execution_count": 92,
     "metadata": {},
     "output_type": "execute_result"
    }
   ],
   "source": [
    "hz200_model_PCA.explained_variance_ratio_"
   ]
  },
  {
   "cell_type": "code",
   "execution_count": 93,
   "metadata": {},
   "outputs": [],
   "source": [
    "hz200_variance_data_df = pd.DataFrame(hz200_model_PCA.explained_variance_ratio_,\n",
    "                                    index=np.arange(1,63),\n",
    "                                    columns=['variance'])"
   ]
  },
  {
   "cell_type": "code",
   "execution_count": 94,
   "metadata": {},
   "outputs": [
    {
     "data": {
      "text/html": [
       "<div>\n",
       "<style scoped>\n",
       "    .dataframe tbody tr th:only-of-type {\n",
       "        vertical-align: middle;\n",
       "    }\n",
       "\n",
       "    .dataframe tbody tr th {\n",
       "        vertical-align: top;\n",
       "    }\n",
       "\n",
       "    .dataframe thead th {\n",
       "        text-align: right;\n",
       "    }\n",
       "</style>\n",
       "<table border=\"1\" class=\"dataframe\">\n",
       "  <thead>\n",
       "    <tr style=\"text-align: right;\">\n",
       "      <th></th>\n",
       "      <th>variance</th>\n",
       "    </tr>\n",
       "    <tr>\n",
       "      <th>num</th>\n",
       "      <th></th>\n",
       "    </tr>\n",
       "  </thead>\n",
       "  <tbody>\n",
       "    <tr>\n",
       "      <th>1</th>\n",
       "      <td>5.091968e-01</td>\n",
       "    </tr>\n",
       "    <tr>\n",
       "      <th>2</th>\n",
       "      <td>3.326276e-01</td>\n",
       "    </tr>\n",
       "    <tr>\n",
       "      <th>3</th>\n",
       "      <td>6.769631e-02</td>\n",
       "    </tr>\n",
       "    <tr>\n",
       "      <th>4</th>\n",
       "      <td>2.755889e-02</td>\n",
       "    </tr>\n",
       "    <tr>\n",
       "      <th>5</th>\n",
       "      <td>1.909115e-02</td>\n",
       "    </tr>\n",
       "    <tr>\n",
       "      <th>...</th>\n",
       "      <td>...</td>\n",
       "    </tr>\n",
       "    <tr>\n",
       "      <th>58</th>\n",
       "      <td>4.745120e-31</td>\n",
       "    </tr>\n",
       "    <tr>\n",
       "      <th>59</th>\n",
       "      <td>4.621112e-31</td>\n",
       "    </tr>\n",
       "    <tr>\n",
       "      <th>60</th>\n",
       "      <td>4.450318e-31</td>\n",
       "    </tr>\n",
       "    <tr>\n",
       "      <th>61</th>\n",
       "      <td>3.816973e-31</td>\n",
       "    </tr>\n",
       "    <tr>\n",
       "      <th>62</th>\n",
       "      <td>3.579717e-31</td>\n",
       "    </tr>\n",
       "  </tbody>\n",
       "</table>\n",
       "<p>62 rows × 1 columns</p>\n",
       "</div>"
      ],
      "text/plain": [
       "         variance\n",
       "num              \n",
       "1    5.091968e-01\n",
       "2    3.326276e-01\n",
       "3    6.769631e-02\n",
       "4    2.755889e-02\n",
       "5    1.909115e-02\n",
       "..            ...\n",
       "58   4.745120e-31\n",
       "59   4.621112e-31\n",
       "60   4.450318e-31\n",
       "61   3.816973e-31\n",
       "62   3.579717e-31\n",
       "\n",
       "[62 rows x 1 columns]"
      ]
     },
     "execution_count": 94,
     "metadata": {},
     "output_type": "execute_result"
    }
   ],
   "source": [
    "hz200_variance_data_df.index.name = 'num'\n",
    "hz200_variance_data_df"
   ]
  },
  {
   "cell_type": "code",
   "execution_count": 95,
   "metadata": {},
   "outputs": [],
   "source": [
    "hz200_variance_data_df.to_csv('hz200_explained_variance_data.csv')"
   ]
  },
  {
   "cell_type": "markdown",
   "metadata": {},
   "source": [
    "# Export WPCA data"
   ]
  },
  {
   "cell_type": "code",
   "execution_count": 96,
   "metadata": {},
   "outputs": [],
   "source": [
    "np.savetxt(\"hz38_W_PCA_data.csv\", hz38_W_PCA, delimiter=\",\")\n",
    "np.savetxt(\"hz120_W_PCA_data.csv\", hz120_W_PCA, delimiter=\",\")\n",
    "np.savetxt(\"hz200_W_PCA_data.csv\", hz200_W_PCA, delimiter=\",\")"
   ]
  },
  {
   "cell_type": "code",
   "execution_count": null,
   "metadata": {},
   "outputs": [],
   "source": []
  }
 ],
 "metadata": {
  "kernelspec": {
   "display_name": "Python 3 (ipykernel)",
   "language": "python",
   "name": "python3"
  },
  "language_info": {
   "codemirror_mode": {
    "name": "ipython",
    "version": 3
   },
   "file_extension": ".py",
   "mimetype": "text/x-python",
   "name": "python",
   "nbconvert_exporter": "python",
   "pygments_lexer": "ipython3",
   "version": "3.10.0"
  }
 },
 "nbformat": 4,
 "nbformat_minor": 2
}
